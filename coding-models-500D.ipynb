{
 "cells": [
  {
   "cell_type": "markdown",
   "metadata": {},
   "source": [
    "# Build coding models\n",
    "Sam Tomioka\n",
    "\n",
    "This is a POC of using FastText word embedding with subwording built on MedDRA dictionaries from Version 4.0-22.0, and Sunovion's 4 ISS ADAE and ADMH as an embedding layer of the deep neural network for MedDRA coding.\n",
    "\n",
    "## 1. Initialize"
   ]
  },
  {
   "cell_type": "code",
   "execution_count": null,
   "metadata": {},
   "outputs": [],
   "source": [
    "!pip install spacy sas7bdat gensim"
   ]
  },
  {
   "cell_type": "code",
   "execution_count": null,
   "metadata": {},
   "outputs": [],
   "source": [
    "!python -m spacy download en_core_web_sm"
   ]
  },
  {
   "cell_type": "code",
   "execution_count": 42,
   "metadata": {},
   "outputs": [
    {
     "name": "stdout",
     "output_type": "stream",
     "text": [
      "arn:aws:iam::497587121589:role/service-role/AmazonSageMaker-ExecutionRole-20181113T220278\n",
      "snvn-sagemaker-1\n"
     ]
    }
   ],
   "source": [
    "import pandas as pd\n",
    "import sagemaker\n",
    "from sagemaker import get_execution_role\n",
    "import boto3\n",
    "import os\n",
    "import pickle\n",
    "import json\n",
    "from sas7bdat import SAS7BDAT\n",
    "\n",
    "\n",
    "#To create embedding layer\n",
    "import spacy\n",
    "import en_core_web_sm\n",
    "nlp = en_core_web_sm.load()\n",
    "\n",
    "import numpy as np\n",
    "import tensorflow as tf\n",
    "from gensim.models import KeyedVectors\n",
    "from nltk.tokenize import word_tokenize\n",
    "from tensorflow.python.ops import math_ops\n",
    "\n",
    "# to create attention models\n",
    "import keras.backend as K\n",
    "import numpy as np\n",
    "from keras.layers import concatenate, Bidirectional, Dropout, MaxPooling1D, Conv1D\n",
    "from keras.layers.core import *\n",
    "from keras.layers.recurrent import LSTM\n",
    "from keras.models import *\n",
    "from keras.optimizers import Adam\n",
    "from keras import regularizers\n",
    "from keras.callbacks import EarlyStopping, ModelCheckpoint, TensorBoard\n",
    "\n",
    "# plots\n",
    "import matplotlib.pyplot as plt\n",
    "\n",
    "%matplotlib inline\n",
    "#Config\n",
    "sess = sagemaker.Session()\n",
    "s3 = boto3.resource('s3')\n",
    "role = get_execution_role()\n",
    "print(role) # This is the role that SageMaker would use to leverage AWS resources (S3, CloudWatch)\n",
    "\n",
    "bucket='snvn-sagemaker-1' #data bucket\n",
    "print(bucket)\n",
    "prefix = 'mldata/Sam/blazingtext/subwords' #Replace with the prefix under which you want to store the data if needed\n",
    "modelkey100D=os.path.join(prefix, 'output','AdverseEventsBTSubwordModel','output','model.tar.gz')\n",
    "modelkey500D=os.path.join(prefix, 'output','AdverseEventsBTSubwordModel500D','output','model.tar.gz')"
   ]
  },
  {
   "cell_type": "markdown",
   "metadata": {},
   "source": [
    "## 2. Def"
   ]
  },
  {
   "cell_type": "code",
   "execution_count": 2,
   "metadata": {},
   "outputs": [],
   "source": [
    "class callback_(tf.keras.callbacks.Callback):\n",
    "      def on_epoch_end(self, epoch, logs={}):\n",
    "        if (logs.get('val_acc')>0.95):\n",
    "            print('Reached 95% validation accuracy so cancelling training')\n",
    "            self.model.stop_training=True\n"
   ]
  },
  {
   "cell_type": "code",
   "execution_count": 3,
   "metadata": {},
   "outputs": [],
   "source": [
    "def load_data_sas(file, term, pt, soc):\n",
    "    '''load sas7bdat, returns standard coding file\n",
    "    param:\n",
    "    term: --TERM\n",
    "    pt: --DECOD\n",
    "    soc: --BODSYS\n",
    "    '''\n",
    "    tmp=SAS7BDAT('dict/'+file+'.sas7bdat').to_data_frame()\n",
    "    tmp=tmp[[term, pt, soc]]\n",
    "    return tmp.rename(index=str, columns={term: 'TERM', pt: 'DECOD', soc: 'SOC'})\n",
    "\n",
    "def load_data_xpt(file, term, pt, soc):\n",
    "    '''load xpt, returns standard coding file\n",
    "    param:\n",
    "    term: --TERM\n",
    "    pt: --DECOD\n",
    "    soc: --BODSYS\n",
    "    '''\n",
    "    tmp=pd.read_sas('dict/'+file+'.xpt',encoding='latin') \n",
    "    tmp=tmp[[term, pt, soc]]\n",
    "    return tmp.rename(index=str, columns={term: 'TERM', pt: 'DECOD', soc: 'SOC'})\n",
    "\n",
    "def get_wdvec(text):\n",
    "    '''get word vectors'''\n",
    "    return wdvec.get_vector(text)\n",
    "\n",
    "def dfClean(df):\n",
    "    '''clean up df\n",
    "    1. remove punctuations\n",
    "    2. remove empty spaces to np.NAN\n",
    "    '''\n",
    "    df=df.applymap(str.lower)\n",
    "    df.replace(r'[^\\w\\s]+',' ', inplace=True, regex=True)\n",
    "    df.replace('', np.NaN, inplace=True)\n",
    "\n",
    "    return df\n",
    "\n",
    "def dataprep(df, stopwords = spacy.lang.en.stop_words.STOP_WORDS):\n",
    "    df=dfClean(df)\n",
    "    df['TERM'].apply(lambda x: [w for w in str(x).split() if w  not in stopwords])\n",
    "    dfs=df.dropna(how='all')\n",
    "    dfs.reset_index(inplace=True, drop=True)\n",
    "    X=dfs['TERM']\n",
    "    Y=dfs['DECOD']\n",
    "    #X=pd.concat([dfs['TERM'], dfs['TERM']])\n",
    "    #Y=pd.concat([dfs['DECOD'], dfs['DECOD']])\n",
    "    X_lst =[w.split() for w in X]\n",
    "    #X_lst=dfs['TERM']\n",
    "    return X, Y, X_lst\n",
    "\n",
    "#f1\n",
    "def f1(y_true, y_pred):\n",
    "    def recall(y_true, y_pred):\n",
    "        true_positives = K.sum(K.round(K.clip(y_true * y_pred, 0, 1)))\n",
    "        possible_positives = K.sum(K.round(K.clip(y_true, 0, 1)))\n",
    "        recall = true_positives / (possible_positives + K.epsilon())\n",
    "        return recall\n",
    "\n",
    "    def precision(y_true, y_pred):\n",
    "        true_positives = K.sum(K.round(K.clip(y_true * y_pred, 0, 1)))\n",
    "        predicted_positives = K.sum(K.round(K.clip(y_pred, 0, 1)))\n",
    "        precision = true_positives / (predicted_positives + K.epsilon())\n",
    "        return precision\n",
    "    precision = precision(y_true, y_pred)\n",
    "    recall = recall(y_true, y_pred)\n",
    "    print(K.get_value(precision))\n",
    "    print(K.get_value(recall))\n",
    "    return 2*((precision*recall)/(precision+recall+K.epsilon()))\n",
    "\n",
    "def emdlayer(window, textlst, dim):\n",
    "    '''generate embedding layer\n",
    "    random normal distribution from 0 to 0.01.\n",
    "    '''\n",
    "\n",
    "    v_tmp=[np.array([get_wdvec(i) \n",
    "                     if i in wdvec.vocab \n",
    "                     else (np.random.randn(dim,)*0.01).astype('float32') for i in record[0:window]])\n",
    "           for record in textlst]\n",
    "    vec = np.array([np.concatenate((v_tmp[i],\n",
    "                                    (np.random.randn(window-v_tmp[i].shape[0], dim)*0.01).astype('float32')),\n",
    "                                   axis=0)\n",
    "        for i in range(len(textlst))])\n",
    "    return vec\n",
    "\n",
    "\n",
    "\n",
    "def plotresult(hist, title, outputfile):\n",
    "    acc = hist.history['acc']\n",
    "    val_acc = hist.history['val_acc']\n",
    "\n",
    "    epochs = len(acc)\n",
    "    plt.plot(range(epochs), acc, marker='.', label='acc')\n",
    "    plt.plot(range(epochs), val_acc, marker='.', label='val_acc')\n",
    "    plt.legend(loc='best')\n",
    "    plt.grid()\n",
    "    plt.xlabel('epoch')\n",
    "    plt.ylabel('acc')\n",
    "    plt.title('Training/Validation: '+ title)\n",
    "    plt.savefig('images/'+outputfile)\n",
    "    plt.show()\n"
   ]
  },
  {
   "cell_type": "markdown",
   "metadata": {},
   "source": [
    "## Load data"
   ]
  },
  {
   "cell_type": "code",
   "execution_count": 4,
   "metadata": {},
   "outputs": [],
   "source": [
    "#meddralst=['meddra40','meddra50','meddra60','meddra70','meddra81',\n",
    "#           'meddra90','meddra100','meddra110','meddra111','meddra120',\n",
    "#          'meddra130','meddra140','meddra150','meddra160',\n",
    "#           'meddra170','meddra180','meddra190','meddra200',\n",
    "#          'meddra210','meddra220']\n",
    "meddralst=['meddra220']        \n",
    "meddra=pd.DataFrame()\n",
    "for i in meddralst:\n",
    "    tmp=load_data_sas(i, 'lltname','ptname','socname')\n",
    "    meddra=pd.concat([meddra,tmp])   "
   ]
  },
  {
   "cell_type": "markdown",
   "metadata": {},
   "source": [
    "stopwords = spacy.lang.en.stop_words.STOP_WORDS\n",
    "meddra['TERM']=meddra['TERM'].apply(lambda x: [w for w in str(x).split() if w  not in stopwords])"
   ]
  },
  {
   "cell_type": "markdown",
   "metadata": {},
   "source": [
    "training data"
   ]
  },
  {
   "cell_type": "code",
   "execution_count": 5,
   "metadata": {},
   "outputs": [],
   "source": [
    "ae=load_data_sas('issae', 'AETERM','AEDECOD','AEBODSYS')\n",
    "mh=load_data_sas('issmh', 'MHTERM','MHDECOD','MHBODSYS')\n",
    "daso_adae=load_data_sas('daso_adae', 'AETERM','AEDECOD','AEBODSYS')\n",
    "daso_admh=load_data_sas('daso_admh', 'MHTERM','MHDECOD','MHBODSYS')\n",
    "sun_adae=load_data_sas('sun_adae', 'AETERM','AEDECOD','AEBODSYS')\n",
    "sun_admh=load_data_sas('sun_admh','MHTERM','MHDECOD','MHBODSYS')\n",
    "apl_adae=load_data_xpt('apl_adae', 'AETERM','AEDECOD','AEBODSYS')\n",
    "apl_admh=load_data_xpt('apl_admh', 'MHTERM','MHDECOD','MHBODSYS')\n",
    "ae360201=load_data_sas('ae360201', 'AETERM','AEDECOD','AEBODSYS')\n",
    "mh360201=load_data_sas('mh360201','MHTERM','MHDECOD','MHBODSYS')"
   ]
  },
  {
   "cell_type": "code",
   "execution_count": 6,
   "metadata": {},
   "outputs": [],
   "source": [
    "ae360202=load_data_sas('ae360202', 'AETERM','AEDECOD','AEBODSYS')"
   ]
  },
  {
   "cell_type": "markdown",
   "metadata": {},
   "source": [
    "We have 30211 classes total if meddra is added. First, let's exclude MedDRA. term=pd.concat([meddra,mh, ae,daso_adae,daso_admh,sun_adae,sun_admh,apl_adae,apl_admh])"
   ]
  },
  {
   "cell_type": "markdown",
   "metadata": {},
   "source": [
    "#### Training Data"
   ]
  },
  {
   "cell_type": "code",
   "execution_count": 7,
   "metadata": {},
   "outputs": [],
   "source": [
    "term=pd.concat([meddra,mh, ae,daso_adae,daso_admh,sun_adae,sun_admh,apl_adae,apl_admh,ae360201,mh360201])\n",
    "x_train, Y_train, X_lst= dataprep(term)"
   ]
  },
  {
   "cell_type": "code",
   "execution_count": 8,
   "metadata": {},
   "outputs": [
    {
     "data": {
      "text/plain": [
       "((259954,), 259954, 259954)"
      ]
     },
     "execution_count": 8,
     "metadata": {},
     "output_type": "execute_result"
    }
   ],
   "source": [
    "x_train.shape, len(Y_train), len(X_lst)"
   ]
  },
  {
   "cell_type": "code",
   "execution_count": 9,
   "metadata": {},
   "outputs": [
    {
     "name": "stdout",
     "output_type": "stream",
     "text": [
      "Classes:  23908 Max cnt of w:  34\n"
     ]
    }
   ],
   "source": [
    "print('Classes: ',len(set(Y_train)), 'Max cnt of w: ', max([len(w) for w in X_lst]))"
   ]
  },
  {
   "cell_type": "markdown",
   "metadata": {},
   "source": [
    "We have about 4000 classes total based on our data and total of 30178  with MedDRA. First smaller model is created. Later a larger model will be created."
   ]
  },
  {
   "cell_type": "markdown",
   "metadata": {},
   "source": [
    "#### Test Data"
   ]
  },
  {
   "cell_type": "code",
   "execution_count": 10,
   "metadata": {},
   "outputs": [],
   "source": [
    "_, Y_test,_= dataprep(ae360202)\n",
    "ae360202=dfClean(ae360202)\n",
    "for pt in [i for i in set(ae360202['DECOD'].tolist()) if i not in  set(Y_train.tolist())]:\n",
    "    ae360202=ae360202[ae360202['DECOD'] != pt]\n",
    "ae360202.reset_index(drop=True, inplace=True)"
   ]
  },
  {
   "cell_type": "code",
   "execution_count": 11,
   "metadata": {},
   "outputs": [],
   "source": [
    "x_test, Y_test, X_testlst= dataprep(ae360202)"
   ]
  },
  {
   "cell_type": "markdown",
   "metadata": {},
   "source": [
    "#### Class encoder/decoder"
   ]
  },
  {
   "cell_type": "code",
   "execution_count": 12,
   "metadata": {},
   "outputs": [],
   "source": [
    "encoder = {}\n",
    "for i, pt in enumerate(set(Y_train)):\n",
    "    encoder.update({pt: i})\n",
    "    i = i + 1\n",
    "decoder = dict([(pt, i) for i, pt in encoder.items()])\n",
    "\n",
    "outfile = open(os.path.join('models', 'ptcoder.pkl'),'wb')\n",
    "pickle.dump(encoder,outfile)\n",
    "outfile.close()\n",
    "outfile = open(os.path.join('models', 'ptdecoder.pkl'),'wb')\n",
    "pickle.dump(decoder,outfile)\n",
    "outfile.close()"
   ]
  },
  {
   "cell_type": "markdown",
   "metadata": {},
   "source": [
    "#### class"
   ]
  },
  {
   "cell_type": "code",
   "execution_count": 13,
   "metadata": {},
   "outputs": [],
   "source": [
    "y_train =np.array( [[encoder[i]] for i in Y_train])\n",
    "y_test = np.array([[encoder[i]] for i in Y_test])"
   ]
  },
  {
   "cell_type": "markdown",
   "metadata": {},
   "source": [
    "#### Check classes in training and test"
   ]
  },
  {
   "cell_type": "code",
   "execution_count": 14,
   "metadata": {},
   "outputs": [
    {
     "name": "stdout",
     "output_type": "stream",
     "text": [
      "extra in test:  []\n"
     ]
    }
   ],
   "source": [
    "#print(\"extra in training:   \",[i for i in set(y_train) if i not in  set(y_test)])\n",
    "print(\"extra in test: \",[i for i in set(ae360202['DECOD'].tolist()) if i not in  set(Y_train.tolist())])"
   ]
  },
  {
   "cell_type": "code",
   "execution_count": 15,
   "metadata": {},
   "outputs": [
    {
     "name": "stdout",
     "output_type": "stream",
     "text": [
      "snvn-sagemaker-1\n"
     ]
    }
   ],
   "source": [
    "bucket='snvn-sagemaker-1' #data bucket\n",
    "print(bucket)\n",
    "prefix = 'mldata/Sam/project/meddracoding'\n",
    "term.to_csv('training.txt', index=False)"
   ]
  },
  {
   "cell_type": "code",
   "execution_count": 16,
   "metadata": {},
   "outputs": [
    {
     "data": {
      "text/plain": [
       "'s3://snvn-sagemaker-1/mldata/Sam/project/meddracoding/training.txt'"
      ]
     },
     "execution_count": 16,
     "metadata": {},
     "output_type": "execute_result"
    }
   ],
   "source": [
    "sess.upload_data(path='training.txt', bucket=bucket, key_prefix=prefix)"
   ]
  },
  {
   "cell_type": "markdown",
   "metadata": {},
   "source": [
    "## Prep for local run of an endpoint\n",
    "Instead of deploying the model on aws, first try this on local. The trained FastText with subwording on 4,396,262 records of adverse events is used here. \n"
   ]
  },
  {
   "cell_type": "code",
   "execution_count": 17,
   "metadata": {},
   "outputs": [
    {
     "name": "stdout",
     "output_type": "stream",
     "text": [
      "mldata/Sam/blazingtext/subwords/output/AdverseEventsBTSubwordModel/output/model.tar.gz\n",
      "eval.json\n",
      "vectors.bin\n",
      "vectors.txt\n"
     ]
    }
   ],
   "source": [
    "print(modelkey100D)\n",
    "s3.Bucket(bucket).download_file(modelkey100D, 'models/100d/modelkey100D.tar.gz')\n",
    "!tar -xvzf models/100d/modelkey100D.tar.gz -C models/100d"
   ]
  },
  {
   "cell_type": "code",
   "execution_count": 22,
   "metadata": {},
   "outputs": [],
   "source": [
    "print(modelkey500D)\n",
    "s3.Bucket(bucket).download_file(modelkey500D, 'models/500d/modelkey500D.tar.gz')\n",
    "!tar -xvzf models/500d/modelkey500D.tar.gz -C models/500d"
   ]
  },
  {
   "cell_type": "code",
   "execution_count": 18,
   "metadata": {},
   "outputs": [
    {
     "name": "stderr",
     "output_type": "stream",
     "text": [
      "WARNING:smart_open.smart_open_lib:this function is deprecated, use smart_open.open instead\n"
     ]
    }
   ],
   "source": [
    "wdvec = KeyedVectors.load_word2vec_format('models/100d/vectors.txt', binary=False, unicode_errors='ignore')"
   ]
  },
  {
   "cell_type": "code",
   "execution_count": 19,
   "metadata": {},
   "outputs": [
    {
     "name": "stderr",
     "output_type": "stream",
     "text": [
      "WARNING:smart_open.smart_open_lib:this function is deprecated, use smart_open.open instead\n"
     ]
    }
   ],
   "source": [
    "#wdvec = KeyedVectors.load_word2vec_format('models/500d/vectors.txt', binary=False, unicode_errors='ignore')"
   ]
  },
  {
   "cell_type": "markdown",
   "metadata": {},
   "source": [
    "#test\n",
    "t=get_wdvec('leg')\n",
    "t.shape\n",
    "wdvec.most_similar_cosmul(positive=['leg', 'limb'], negative=['hand'])"
   ]
  },
  {
   "cell_type": "markdown",
   "metadata": {},
   "source": [
    "check the max length of the sentences after coverting it to uni-gram model and removal of stopwords"
   ]
  },
  {
   "cell_type": "code",
   "execution_count": 19,
   "metadata": {},
   "outputs": [
    {
     "data": {
      "text/plain": [
       "34"
      ]
     },
     "execution_count": 19,
     "metadata": {},
     "output_type": "execute_result"
    }
   ],
   "source": [
    "N=len(max(X_lst,key=len))\n",
    "N"
   ]
  },
  {
   "cell_type": "markdown",
   "metadata": {},
   "source": [
    "check the distribution of sizes"
   ]
  },
  {
   "cell_type": "code",
   "execution_count": 21,
   "metadata": {},
   "outputs": [
    {
     "data": {
      "image/png": "[encoded data removed]",
      "text/plain": [
       "<Figure size 432x288 with 1 Axes>"
      ]
     },
     "metadata": {},
     "output_type": "display_data"
    }
   ],
   "source": [
    "aesize=[len(i) for i in X_lst]\n",
    "fig = plt.figure() \n",
    "ax = plt.axes() \n",
    "\n",
    "plt.style.use('seaborn-whitegrid')\n",
    "plt.title('AE word sizes')\n",
    "plt.hist(aesize, density=True, bins=35)\n",
    "plt.ylabel('AE sizes')\n",
    "ax.grid(False)\n",
    "frameon=False\n",
    "ax.spines['right'].set_visible(False)\n",
    "ax.spines['top'].set_visible(False)\n",
    "plt.savefig('images/ae_size.png')"
   ]
  },
  {
   "cell_type": "markdown",
   "metadata": {},
   "source": [
    "Build an embedding layer \n"
   ]
  },
  {
   "cell_type": "markdown",
   "metadata": {},
   "source": [
    "set window size to 7"
   ]
  },
  {
   "cell_type": "markdown",
   "metadata": {},
   "source": [
    "### LSTM with attention"
   ]
  },
  {
   "cell_type": "code",
   "execution_count": 20,
   "metadata": {},
   "outputs": [],
   "source": [
    "callbacks=callback_()"
   ]
  },
  {
   "cell_type": "code",
   "execution_count": 21,
   "metadata": {},
   "outputs": [],
   "source": [
    "CLASSES=len(set(Y_train))\n",
    "WINDOWS_Size=9"
   ]
  },
  {
   "cell_type": "code",
   "execution_count": null,
   "metadata": {},
   "outputs": [],
   "source": [
    "def embedding_layer(BTSMDIM):\n",
    "    if BTSMDIM==100:\n",
    "        X=emdlayer(WINDOWS_Size, X_lst, 100)\n",
    "        Xtest=emdlayer(WINDOWS_Size, X_testlst, 100)\n",
    "        INPUT_DIM = X.shape[2]\n",
    "        SINGLE_ATTENTION_VECTOR = False\n",
    "    if BTSMDIM==500:\n",
    "        X=emdlayer(WINDOWS_Size, X_lst, 500)\n",
    "        Xtest=emdlayer(WINDOWS_Size, X_testlst, 500)\n",
    "        INPUT_DIM = X.shape[2]\n",
    "        SINGLE_ATTENTION_VECTOR = False"
   ]
  },
  {
   "cell_type": "code",
   "execution_count": 23,
   "metadata": {},
   "outputs": [
    {
     "data": {
      "text/plain": [
       "((259954, 9, 100), (259954, 1), (276, 9, 100), (276, 1))"
      ]
     },
     "execution_count": 23,
     "metadata": {},
     "output_type": "execute_result"
    }
   ],
   "source": [
    "X.shape, y_train.shape, Xtest.shape, y_test.shape"
   ]
  },
  {
   "cell_type": "code",
   "execution_count": 25,
   "metadata": {},
   "outputs": [
    {
     "data": {
      "text/plain": [
       "23908"
      ]
     },
     "execution_count": 25,
     "metadata": {},
     "output_type": "execute_result"
    }
   ],
   "source": [
    "%%time\n",
    "embedding_layer(500)"
   ]
  },
  {
   "cell_type": "markdown",
   "metadata": {},
   "source": [
    "134408 samples, 7 time steps, and 100 dimentions"
   ]
  },
  {
   "cell_type": "code",
   "execution_count": 60,
   "metadata": {},
   "outputs": [],
   "source": [
    "def get_activations(model, inputs, print_shape_only=False, layer_name=None):\n",
    "\n",
    "    print('----- activations -----')\n",
    "    activations = []\n",
    "    inp = model.input\n",
    "    if layer_name is None:\n",
    "        outputs = [layer.output for layer in model.layers]\n",
    "    else:\n",
    "        outputs = [layer.output for layer in model.layers if layer.name == layer_name]  # all layer outputs\n",
    "    funcs = [K.function([inp] + [K.learning_phase()], [out]) for out in outputs]  # evaluation functions\n",
    "    layer_outputs = [func([inputs, 1.])[0] for func in funcs]\n",
    "    for layer_activations in layer_outputs:\n",
    "        activations.append(layer_activations)\n",
    "        if print_shape_only:\n",
    "            print(layer_activations.shape)\n",
    "        else:\n",
    "            print(layer_activations)\n",
    "    return activations\n",
    "\n",
    "def attention_3d_block(inputs):\n",
    "    # inputs.shape = (batch_size, time_steps, input_dim)\n",
    "    input_dim = int(inputs.shape[2])\n",
    "    a = Permute((2, 1))(inputs)\n",
    "    a = Reshape((input_dim, WINDOWS_Size))(a) # this line is not useful. It's just to know which dimension is what.\n",
    "    a = Dense(WINDOWS_Size, activation='softmax')(a)\n",
    "    if SINGLE_ATTENTION_VECTOR:\n",
    "        a = Lambda(lambda x: K.mean(x, axis=1), name='dim_reduction')(a)\n",
    "        a = RepeatVector(input_dim)(a)\n",
    "    a_probs = Permute((2, 1), name='attention_vec')(a)\n",
    "    \n",
    "    output_attention_mul = concatenate([inputs, a_probs], name='attention_mul')\n",
    "    return output_attention_mul\n",
    "\n",
    "\n",
    "\n",
    "def model_attention_applied_after_lstm():\n",
    "    inputs = Input(shape=(WINDOWS_Size, INPUT_DIM,))\n",
    "    lstm_units1 = 256\n",
    "    lstm_out = LSTM(lstm_units1, return_sequences=True, recurrent_regularizer=regularizers.l2(0.01))(inputs)\n",
    "    attention_mul = attention_3d_block(lstm_out)\n",
    "    attention_mul = Flatten()(attention_mul)\n",
    "    output = Dense(CLASSES, activation='softmax')(attention_mul)\n",
    "    model = Model(input=[inputs], output=output)\n",
    "    return model\n",
    "\n",
    "def model_attention_applied_after_lstmv2():\n",
    "    inputs = Input(shape=(WINDOWS_Size, INPUT_DIM,))\n",
    "\n",
    "    lstm_out = LSTM(512, return_sequences=True, recurrent_regularizer=regularizers.l2(0.01))(inputs)\n",
    "    lstm_out = LSTM(512, return_sequences=True, recurrent_regularizer=regularizers.l2(0.01))(lstm_out)\n",
    "    dnn_out=Dense(256, activation=tf.nn.relu,kernel_regularizer=regularizers.l2(0.01))(lstm_out)\n",
    "    attention_mul = attention_3d_block(dnn_out)\n",
    "    attention_mul = Flatten()(attention_mul)\n",
    "    output = Dense(CLASSES, activation='softmax')(attention_mul)\n",
    "    model = Model(input=[inputs], output=output)\n",
    "    return model\n",
    "\n",
    "\n",
    "def model_attention_applied_after_bilstm():\n",
    "    inputs = Input(shape=(WINDOWS_Size, INPUT_DIM,))\n",
    "    drop=Dropout(0.2)(inputs)\n",
    "    lstm_units1 = 256\n",
    "    lstm_units2= 128\n",
    "    #apply regularization to recurrent connections on each LSTM unit\n",
    "    lstm_out = Bidirectional(LSTM(lstm_units1, activation='tanh',recurrent_regularizer=regularizers.l2(0.01),return_sequences=True))(drop)\n",
    "    lstm_out = Bidirectional(LSTM(lstm_units2, activation='tanh',recurrent_regularizer=regularizers.l2(0.01), return_sequences=True))(lstm_out)\n",
    "    dnn_out=Dense(128, activation=tf.nn.relu,kernel_regularizer=regularizers.l2(0.01))(lstm_out)\n",
    "    attention_mul = attention_3d_block(dnn_out)\n",
    "    attention_mul = Flatten()(attention_mul)\n",
    "    \n",
    "    #output = Dense(1, activation='sigmoid')(attention_mul)\n",
    "    output = Dense(CLASSES, activation='softmax')(attention_mul)\n",
    "    model = Model(input=[inputs], output=output)\n",
    "    return model\n",
    "\n",
    "def model_attention_applied_after_bilstm_ver2():\n",
    "    inputs = Input(shape=(WINDOWS_Size, INPUT_DIM,))\n",
    "    lstm_units1 = 512\n",
    "    lstm_units2= 256\n",
    "    #apply regularization to recurrent connections on each LSTM unit\n",
    "    lstm_out = Bidirectional(LSTM(lstm_units1, activation='tanh',recurrent_regularizer=regularizers.l2(0.01),return_sequences=True))(inputs)\n",
    "    lstm_out = Bidirectional(LSTM(lstm_units2, activation='tanh',recurrent_regularizer=regularizers.l2(0.01), return_sequences=True))(lstm_out)\n",
    "    dnn_out=Dense(512, activation=tf.nn.relu,kernel_regularizer=regularizers.l2(0.01))(lstm_out)\n",
    "    attention_mul = attention_3d_block(dnn_out)\n",
    "    attention_mul = Flatten()(attention_mul)\n",
    "    \n",
    "    #output = Dense(1, activation='sigmoid')(attention_mul)\n",
    "    output = Dense(CLASSES, activation='softmax')(attention_mul)\n",
    "    model = Model(input=[inputs], output=output)\n",
    "    return model\n",
    "\n",
    "def model_conv():\n",
    "    inputs = Input(shape=(WINDOWS_Size, INPUT_DIM,))\n",
    "\n",
    "    conv_0 = Conv1D(64, 7,activation='relu',kernel_regularizer=regularizers.l2(0.01))(inputs)\n",
    "    conv_1 = Conv1D(64, 5,activation='relu',kernel_regularizer=regularizers.l2(0.01))(inputs)\n",
    "    conv_2 = Conv1D(64, 3,activation='relu',kernel_regularizer=regularizers.l2(0.01))(inputs)\n",
    "\n",
    "    maxpool_0 = MaxPooling1D(pool_size=2)(conv_0)\n",
    "    maxpool_1 = MaxPooling1D(pool_size=2)(conv_1)\n",
    "    maxpool_2 = MaxPooling1D(pool_size=2)(conv_2)\n",
    "\n",
    "    merged_tensor = concatenate([maxpool_0, maxpool_1, maxpool_2], axis=1)\n",
    "    lstm_out = Bidirectional(LSTM(256, activation='tanh',recurrent_regularizer=regularizers.l2(0.01),return_sequences=True))(merged_tensor)\n",
    "    merged_tensor = Flatten()(lstm_out)\n",
    "    dnn_out=Dense(128, activation=tf.nn.relu)(merged_tensor)\n",
    "    output = Dense(CLASSES, activation='softmax')(merged_tensor)\n",
    "    model = Model(input=[inputs], output=output)\n",
    "    return model\n",
    "\n",
    "def model_conv_2():\n",
    "    inputs = Input(shape=(WINDOWS_Size, INPUT_DIM,))\n",
    "    attention_mul = attention_3d_block(inputs)\n",
    "    conv_0 = Conv1D(64, 7,activation='relu',kernel_regularizer=regularizers.l2(0.01))(attention_mul)\n",
    "    conv_0=Dropout(0.2)(conv_0)\n",
    "    conv_1 = Conv1D(64, 5,activation='relu',kernel_regularizer=regularizers.l2(0.01))(attention_mul)\n",
    "    conv_1=Dropout(0.2)(conv_1)\n",
    "    conv_2 = Conv1D(64, 3,activation='relu',kernel_regularizer=regularizers.l2(0.01))(attention_mul)\n",
    "    conv_2=Dropout(0.2)(conv_2)\n",
    "    \n",
    "    maxpool_0 = MaxPooling1D(pool_size=2)(conv_0)\n",
    "    maxpool_1 = MaxPooling1D(pool_size=2)(conv_1)\n",
    "    maxpool_2 = MaxPooling1D(pool_size=2)(conv_2)\n",
    "\n",
    "    conc_tensor_0 = concatenate([maxpool_0, maxpool_1], axis=1)\n",
    "    conc_tensor_1 = concatenate([maxpool_1, maxpool_2], axis=1)\n",
    "    conc_tensor_2 = concatenate([maxpool_0, maxpool_2], axis=1)\n",
    "    \n",
    "    conc_tensor_0 = Flatten()(conc_tensor_0)\n",
    "    conc_tensor_1 = Flatten()(conc_tensor_1)\n",
    "    conc_tensor_2 = Flatten()(conc_tensor_2)\n",
    "    \n",
    "    dnn_out_1=Dense(256, activation=tf.nn.relu, kernel_regularizer=regularizers.l2(0.01))(conc_tensor_0)\n",
    "    dnn_out_2=Dense(256, activation=tf.nn.relu, kernel_regularizer=regularizers.l2(0.01))(conc_tensor_1)    \n",
    "    dnn_out_3=Dense(256, activation=tf.nn.relu, kernel_regularizer=regularizers.l2(0.01))(conc_tensor_2)    \n",
    "\n",
    "    conc_dnn_out=concatenate([dnn_out_1, dnn_out_2,dnn_out_3], axis=1)\n",
    "    dnn_out_4=Dense(128, activation=tf.nn.relu, kernel_regularizer=regularizers.l2(0.01))(conc_dnn_out)  \n",
    "    dnn_out_5=Dense(128, activation=tf.nn.relu, kernel_regularizer=regularizers.l2(0.01))(dnn_out_4) \n",
    "    dnn_out_6=Dense(128, activation=tf.nn.relu, kernel_regularizer=regularizers.l2(0.01))(dnn_out_5) \n",
    "    output = Dense(CLASSES, activation='softmax')(dnn_out_6)\n",
    "    model = Model(input=[inputs], output=output)\n",
    "    return model\n",
    "\n",
    "\n",
    "def model_attention_applied_before_bilstm():\n",
    "    inputs = Input(shape=(WINDOWS_Size, INPUT_DIM,))\n",
    "    attention_mul = attention_3d_block(inputs)\n",
    "    lstm_units1 = 256\n",
    "    lstm_units2= 128\n",
    "    lstm_out = Bidirectional(LSTM(lstm_units1, return_sequences=True))(attention_mul)\n",
    "    lstm_out = Bidirectional(LSTM(lstm_units2, return_sequences=False))(lstm_out)\n",
    "    dnn_out=Dense(128, activation=tf.nn.relu)(lstm_out)\n",
    "    output = Dense(CLASSES, activation='softmax')(dnn_out)\n",
    "    model = Model(input=[inputs], output=output)\n",
    "    return model\n",
    "\n",
    "def model_attention_applied_before_lstmv():\n",
    "    inputs = Input(shape=(WINDOWS_Size, INPUT_DIM,))\n",
    "    attention_mul = attention_3d_block(inputs)\n",
    "    lstm_units1 = 256\n",
    "    lstm_units2= 128\n",
    "    lstm_out = LSTM(lstm_units1, return_sequences=True, recurrent_regularizer=regularizers.l2(0.01))(attention_mul)\n",
    "\n",
    "    lstm_out = Flatten()(lstm_out)\n",
    "    dnn_out=Dense(128, activation=tf.nn.relu)(lstm_out)\n",
    "    output = Dense(CLASSES, activation='softmax')(dnn_out)\n",
    "    model = Model(input=[inputs], output=output)\n",
    "    return model"
   ]
  },
  {
   "cell_type": "markdown",
   "metadata": {},
   "source": [
    "## model_attention_applied_after_bilstm"
   ]
  },
  {
   "cell_type": "code",
   "execution_count": 29,
   "metadata": {},
   "outputs": [
    {
     "name": "stderr",
     "output_type": "stream",
     "text": [
      "WARNING:tensorflow:From /home/ec2-user/anaconda3/envs/tensorflow_p36/lib/python3.6/site-packages/tensorflow/python/framework/op_def_library.py:263: colocate_with (from tensorflow.python.framework.ops) is deprecated and will be removed in a future version.\n",
      "Instructions for updating:\n",
      "Colocations handled automatically by placer.\n",
      "/home/ec2-user/anaconda3/envs/tensorflow_p36/lib/python3.6/site-packages/ipykernel/__main__.py:42: UserWarning: Update your `Model` call to the Keras 2 API: `Model(inputs=[<tf.Tenso..., outputs=Tensor(\"de...)`\n",
      "WARNING:tensorflow:From /home/ec2-user/anaconda3/envs/tensorflow_p36/lib/python3.6/site-packages/tensorflow/python/ops/math_ops.py:3066: to_int32 (from tensorflow.python.ops.math_ops) is deprecated and will be removed in a future version.\n",
      "Instructions for updating:\n",
      "Use tf.cast instead.\n",
      "WARNING:tensorflow:From /home/ec2-user/anaconda3/envs/tensorflow_p36/lib/python3.6/site-packages/tensorflow/python/ops/math_grad.py:102: div (from tensorflow.python.ops.math_ops) is deprecated and will be removed in a future version.\n",
      "Instructions for updating:\n",
      "Deprecated in favor of operator or tf.math.divide.\n"
     ]
    },
    {
     "name": "stdout",
     "output_type": "stream",
     "text": [
      "__________________________________________________________________________________________________\n",
      "Layer (type)                    Output Shape         Param #     Connected to                     \n",
      "==================================================================================================\n",
      "input_1 (InputLayer)            (None, 9, 500)       0                                            \n",
      "__________________________________________________________________________________________________\n",
      "lstm_1 (LSTM)                   (None, 9, 256)       775168      input_1[0][0]                    \n",
      "__________________________________________________________________________________________________\n",
      "permute_1 (Permute)             (None, 256, 9)       0           lstm_1[0][0]                     \n",
      "__________________________________________________________________________________________________\n",
      "reshape_1 (Reshape)             (None, 256, 9)       0           permute_1[0][0]                  \n",
      "__________________________________________________________________________________________________\n",
      "dense_1 (Dense)                 (None, 256, 9)       90          reshape_1[0][0]                  \n",
      "__________________________________________________________________________________________________\n",
      "attention_vec (Permute)         (None, 9, 256)       0           dense_1[0][0]                    \n",
      "__________________________________________________________________________________________________\n",
      "attention_mul (Concatenate)     (None, 9, 512)       0           lstm_1[0][0]                     \n",
      "                                                                 attention_vec[0][0]              \n",
      "__________________________________________________________________________________________________\n",
      "flatten_1 (Flatten)             (None, 4608)         0           attention_mul[0][0]              \n",
      "__________________________________________________________________________________________________\n",
      "dense_2 (Dense)                 (None, 23908)        110191972   flatten_1[0][0]                  \n",
      "==================================================================================================\n",
      "Total params: 110,967,230\n",
      "Trainable params: 110,967,230\n",
      "Non-trainable params: 0\n",
      "__________________________________________________________________________________________________\n",
      "Train on 207963 samples, validate on 51991 samples\n",
      "Epoch 1/30\n",
      "207963/207963 [==============================] - 157s 755us/step - loss: 4.0664 - acc: 0.5707 - val_loss: 1.5299 - val_acc: 0.8100\n",
      "Epoch 2/30\n",
      "207963/207963 [==============================] - 142s 683us/step - loss: 2.0281 - acc: 0.7747 - val_loss: 1.5249 - val_acc: 0.8233\n",
      "Epoch 3/30\n",
      "207963/207963 [==============================] - 142s 682us/step - loss: 1.7694 - acc: 0.8266 - val_loss: 1.5124 - val_acc: 0.8376\n",
      "Epoch 4/30\n",
      "207963/207963 [==============================] - 142s 682us/step - loss: 1.6924 - acc: 0.8439 - val_loss: 1.5227 - val_acc: 0.8334\n",
      "Epoch 5/30\n",
      "207963/207963 [==============================] - 142s 682us/step - loss: 1.6442 - acc: 0.8540 - val_loss: 1.5691 - val_acc: 0.8411\n",
      "Epoch 6/30\n",
      "207963/207963 [==============================] - 142s 682us/step - loss: 1.6090 - acc: 0.8594 - val_loss: 1.5488 - val_acc: 0.8432\n",
      "Epoch 7/30\n",
      "207963/207963 [==============================] - 142s 682us/step - loss: 1.5643 - acc: 0.8638 - val_loss: 1.6101 - val_acc: 0.8439\n",
      "Epoch 8/30\n",
      "207963/207963 [==============================] - 142s 682us/step - loss: 1.4950 - acc: 0.8711 - val_loss: 1.6392 - val_acc: 0.8412\n",
      "Epoch 9/30\n",
      "207963/207963 [==============================] - 142s 682us/step - loss: 1.3910 - acc: 0.8875 - val_loss: 1.6267 - val_acc: 0.8463\n",
      "Epoch 10/30\n",
      "207963/207963 [==============================] - 142s 682us/step - loss: 1.3139 - acc: 0.8998 - val_loss: 1.6520 - val_acc: 0.8452\n",
      "Epoch 11/30\n",
      "207963/207963 [==============================] - 142s 682us/step - loss: 1.2709 - acc: 0.9073 - val_loss: 1.7049 - val_acc: 0.8400\n",
      "Epoch 12/30\n",
      "207963/207963 [==============================] - 142s 682us/step - loss: 1.2412 - acc: 0.9132 - val_loss: 1.6749 - val_acc: 0.8389\n",
      "Epoch 13/30\n",
      "207963/207963 [==============================] - 142s 681us/step - loss: 1.2187 - acc: 0.9169 - val_loss: 1.6439 - val_acc: 0.8468\n",
      "Epoch 14/30\n",
      "207963/207963 [==============================] - 142s 682us/step - loss: 1.2066 - acc: 0.9189 - val_loss: 1.6584 - val_acc: 0.8463\n",
      "Epoch 15/30\n",
      "207963/207963 [==============================] - 142s 682us/step - loss: 1.2027 - acc: 0.9203 - val_loss: 1.6602 - val_acc: 0.8483\n",
      "Epoch 16/30\n",
      "207963/207963 [==============================] - 142s 682us/step - loss: 1.1917 - acc: 0.9212 - val_loss: 1.6923 - val_acc: 0.8490\n",
      "Epoch 17/30\n",
      "207963/207963 [==============================] - 142s 682us/step - loss: 1.1849 - acc: 0.9220 - val_loss: 1.6793 - val_acc: 0.8463\n",
      "Epoch 18/30\n",
      "207963/207963 [==============================] - 142s 682us/step - loss: 1.1806 - acc: 0.9211 - val_loss: 1.6985 - val_acc: 0.8407\n",
      "Epoch 19/30\n",
      "207963/207963 [==============================] - 142s 682us/step - loss: 1.0016 - acc: 0.9215 - val_loss: 1.5279 - val_acc: 0.8354\n",
      "Epoch 20/30\n",
      "207963/207963 [==============================] - 142s 682us/step - loss: 0.6499 - acc: 0.9507 - val_loss: 1.4804 - val_acc: 0.8428\n",
      "Epoch 21/30\n",
      "207963/207963 [==============================] - 142s 682us/step - loss: 0.4992 - acc: 0.9622 - val_loss: 1.4996 - val_acc: 0.8379\n",
      "Epoch 22/30\n",
      "207963/207963 [==============================] - 142s 682us/step - loss: 0.3955 - acc: 0.9693 - val_loss: 1.5234 - val_acc: 0.8357\n",
      "Epoch 23/30\n",
      "207963/207963 [==============================] - 142s 682us/step - loss: 0.3101 - acc: 0.9756 - val_loss: 1.4833 - val_acc: 0.8416\n",
      "Epoch 24/30\n",
      "207963/207963 [==============================] - 142s 682us/step - loss: 0.2718 - acc: 0.9784 - val_loss: 1.5298 - val_acc: 0.8445\n",
      "Epoch 25/30\n",
      "207963/207963 [==============================] - 142s 682us/step - loss: 0.2385 - acc: 0.9809 - val_loss: 1.5859 - val_acc: 0.8349\n",
      "Epoch 26/30\n",
      "207963/207963 [==============================] - 142s 682us/step - loss: 0.2142 - acc: 0.9826 - val_loss: 1.5718 - val_acc: 0.8367\n",
      "Epoch 27/30\n",
      "207963/207963 [==============================] - 142s 682us/step - loss: 0.1908 - acc: 0.9842 - val_loss: 1.5554 - val_acc: 0.8400\n",
      "Epoch 28/30\n",
      "207963/207963 [==============================] - 142s 682us/step - loss: 0.1699 - acc: 0.9855 - val_loss: 1.5745 - val_acc: 0.8404\n",
      "Epoch 29/30\n",
      "207963/207963 [==============================] - 142s 682us/step - loss: 0.1523 - acc: 0.9868 - val_loss: 1.5680 - val_acc: 0.8384\n",
      "Epoch 30/30\n",
      "207963/207963 [==============================] - 142s 682us/step - loss: 0.1446 - acc: 0.9874 - val_loss: 1.5558 - val_acc: 0.8431\n"
     ]
    }
   ],
   "source": [
    "m0 = model_attention_applied_after_lstm()\n",
    "\n",
    "m0.compile(optimizer='adam', loss='sparse_categorical_crossentropy', metrics=['accuracy'])\n",
    "m0.summary()\n",
    "\n",
    "h0=m0.fit([X], y_train, epochs=30, batch_size=64, validation_split=0.2, callbacks=[callbacks])"
   ]
  },
  {
   "cell_type": "code",
   "execution_count": 87,
   "metadata": {},
   "outputs": [
    {
     "data": {
      "image/png": "[encoded data removed]",
      "text/plain": [
       "<Figure size 432x288 with 1 Axes>"
      ]
     },
     "metadata": {},
     "output_type": "display_data"
    }
   ],
   "source": [
    "\n",
    "\n",
    "plotresult(h0, '500D BTSM + LSTM+Attension', 'm0-model_attention_applied_after_bilstm.png')   "
   ]
  },
  {
   "cell_type": "code",
   "execution_count": 33,
   "metadata": {},
   "outputs": [
    {
     "name": "stdout",
     "output_type": "stream",
     "text": [
      "loss/acc: [0.6650197132342104, 0.9166666675305021]\n"
     ]
    }
   ],
   "source": [
    "score = m0.evaluate(Xtest, y_test, verbose=0)\n",
    "print(\"loss/acc:\", score)"
   ]
  },
  {
   "cell_type": "code",
   "execution_count": 34,
   "metadata": {},
   "outputs": [
    {
     "data": {
      "text/plain": [
       "array([[0, 0, 0, ..., 0, 0, 0],\n",
       "       [0, 0, 0, ..., 0, 0, 0],\n",
       "       [0, 0, 1, ..., 0, 0, 0],\n",
       "       ...,\n",
       "       [0, 0, 0, ..., 1, 0, 0],\n",
       "       [0, 0, 0, ..., 0, 1, 0],\n",
       "       [0, 0, 0, ..., 0, 0, 5]])"
      ]
     },
     "execution_count": 34,
     "metadata": {},
     "output_type": "execute_result"
    }
   ],
   "source": [
    "y_p = m0.predict(Xtest)\n",
    "\n",
    "####obtain PT\n",
    "y_pred = [decoder[i] for i in y_p.argmax(axis=1)]\n",
    "from sklearn.metrics import confusion_matrix\n",
    "confusion_matrix(Y_test.tolist(), y_pred)"
   ]
  },
  {
   "cell_type": "code",
   "execution_count": 36,
   "metadata": {},
   "outputs": [
    {
     "name": "stdout",
     "output_type": "stream",
     "text": [
      "                                                precision    recall  f1-score   support\n",
      "\n",
      "                          abdominal pain upper       0.00      0.00      0.00         0\n",
      "                       acute myeloid leukaemia       0.00      0.00      0.00         0\n",
      "                               acute psychosis       1.00      1.00      1.00         1\n",
      "                                     agitation       1.00      1.00      1.00         4\n",
      "                                     akathisia       1.00      1.00      1.00         1\n",
      "            alanine aminotransferase increased       1.00      1.00      1.00         3\n",
      "                                       anaemia       1.00      1.00      1.00         1\n",
      "                               angina pectoris       1.00      1.00      1.00         1\n",
      "                                 anisometropia       1.00      1.00      1.00         1\n",
      "                                      anorexia       0.00      0.00      0.00         0\n",
      "                                       anxiety       1.00      1.00      1.00        39\n",
      "                                    arthralgia       0.00      0.00      0.00         0\n",
      "                                arthropod bite       1.00      1.00      1.00         1\n",
      "          aspartate aminotransferase increased       1.00      1.00      1.00         2\n",
      "                                      asthenia       1.00      1.00      1.00         4\n",
      "                                    asthenopia       0.00      0.00      0.00         0\n",
      "           atrioventricular block first degree       1.00      1.00      1.00         1\n",
      "                                     back pain       0.50      1.00      0.67         1\n",
      "                            biliary dyskinesia       1.00      1.00      1.00         1\n",
      " bladder transitional cell carcinoma stage iii       0.00      0.00      0.00         0\n",
      "        blood creatine phosphokinase increased       0.00      0.00      0.00         0\n",
      "                      blood pressure increased       1.00      1.00      1.00         1\n",
      "                     blood prolactin increased       1.00      1.00      1.00         4\n",
      "                        blood sodium decreased       1.00      1.00      1.00         1\n",
      "                                   bradycardia       1.00      1.00      1.00         1\n",
      "                                  chapped lips       0.00      0.00      0.00         0\n",
      "                                         cough       1.00      1.00      1.00         1\n",
      "                            decreased appetite       0.00      0.00      0.00         2\n",
      "                                   dental cyst       1.00      1.00      1.00         1\n",
      "                                    depression       0.50      1.00      0.67         1\n",
      "                           developmental delay       0.00      0.00      0.00         0\n",
      "                                     diarrhoea       1.00      1.00      1.00         1\n",
      "                 diffuse large b cell lymphoma       0.00      0.00      0.00         0\n",
      "                      disturbance in attention       1.00      1.00      1.00         2\n",
      "                                     dizziness       1.00      1.00      1.00         2\n",
      "                                     dry mouth       1.00      1.00      1.00         1\n",
      "                                    dyskinesia       1.00      1.00      1.00         1\n",
      "                                     dyspepsia       1.00      1.00      1.00         1\n",
      "                                       dysuria       1.00      1.00      1.00         1\n",
      "                                 euphoric mood       0.00      0.00      0.00         0\n",
      "                                       fatigue       0.00      0.00      0.00         1\n",
      "                                   feeling hot       0.00      0.00      0.00         0\n",
      "                                        goitre       1.00      1.00      1.00         1\n",
      "                                      headache       0.97      1.00      0.99        36\n",
      "                          heart rate increased       1.00      1.00      1.00         1\n",
      "                         hypercholesterolaemia       0.00      0.00      0.00         0\n",
      "                           hyperprolactinaemia       1.00      1.00      1.00         1\n",
      "                                   hypotension       1.00      1.00      1.00         2\n",
      "                                      illusion       1.00      1.00      1.00         1\n",
      "                            increased appetite       1.00      1.00      1.00         2\n",
      "                                     influenza       1.00      0.80      0.89         5\n",
      "                              initial insomnia       0.00      0.00      0.00         2\n",
      "                                      insomnia       1.00      1.00      1.00        28\n",
      "                                  irritability       1.00      1.00      1.00         6\n",
      "                                  joint sprain       0.00      0.00      0.00         0\n",
      "                               joint stiffness       0.00      0.00      0.00         1\n",
      "                                    leukopenia       0.00      0.00      0.00         1\n",
      "                               ligament sprain       0.00      0.00      0.00         1\n",
      "                          menstruation delayed       0.00      0.00      0.00         1\n",
      "                               middle insomnia       0.00      0.00      0.00         0\n",
      "                                   mood swings       1.00      1.00      1.00         1\n",
      "                                muscle fatigue       1.00      1.00      1.00         1\n",
      "                             muscular weakness       1.00      1.00      1.00         2\n",
      "                    musculoskeletal discomfort       0.00      0.00      0.00         1\n",
      "                          musculoskeletal pain       1.00      1.00      1.00         1\n",
      "                     musculoskeletal stiffness       1.00      0.67      0.80         3\n",
      "                                       myalgia       1.00      1.00      1.00         1\n",
      "                                        myopia       1.00      1.00      1.00         1\n",
      "                              nasal congestion       1.00      1.00      1.00         1\n",
      "                               nasopharyngitis       1.00      1.00      1.00         7\n",
      "                                        nausea       1.00      1.00      1.00         8\n",
      "                                     nightmare       0.00      0.00      0.00         2\n",
      "nodal marginal zone b cell lymphoma refractory       0.00      0.00      0.00         0\n",
      "                               nuchal rigidity       1.00      1.00      1.00         1\n",
      "                                   oral herpes       0.00      0.00      0.00         1\n",
      "                            oropharyngeal pain       1.00      1.00      1.00         2\n",
      "                          pancreatitis chronic       1.00      1.00      1.00         1\n",
      "                                  paraesthesia       0.00      0.00      0.00         1\n",
      "                                  parkinsonism       0.67      1.00      0.80         2\n",
      "                                   pharyngitis       1.00      0.50      0.67         2\n",
      "     postural orthostatic tachycardia syndrome       1.00      1.00      1.00         1\n",
      "                                   prostatitis       1.00      1.00      1.00         1\n",
      "                            psychotic disorder       1.00      1.00      1.00         1\n",
      "                        pyoderma streptococcal       0.00      0.00      0.00         1\n",
      "             respiratory tract infection viral       1.00      1.00      1.00         1\n",
      "                                  restlessness       1.00      1.00      1.00         1\n",
      "                                      rhinitis       1.00      1.00      1.00         2\n",
      "                         road traffic accident       1.00      1.00      1.00         1\n",
      "                                 schizophrenia       1.00      0.96      0.98        23\n",
      "                              sinus arrhythmia       1.00      1.00      1.00         1\n",
      "                             sinus tachycardia       1.00      1.00      1.00         3\n",
      "                                    somnolence       1.00      1.00      1.00         8\n",
      "                                    stomatitis       1.00      1.00      1.00         1\n",
      "                             suicidal ideation       1.00      1.00      1.00         2\n",
      "                                   tachycardia       1.00      1.00      1.00         1\n",
      "                             terminal insomnia       1.00      0.67      0.80         3\n",
      "                                     toothache       1.00      1.00      1.00         2\n",
      "                                        tremor       1.00      0.67      0.80         3\n",
      "                   tri iodothyronine increased       0.00      0.00      0.00         1\n",
      "                           uterine haemorrhage       0.00      0.00      0.00         1\n",
      "                                       vertigo       1.00      1.00      1.00         1\n",
      "                                      vomiting       1.00      1.00      1.00         1\n",
      "                              weight decreased       1.00      1.00      1.00         5\n",
      "\n",
      "                                   avg / total       0.93      0.92      0.92       276\n",
      "\n",
      "Micro precision/recall/F1: 0.9166666666666666 / 0.9166666666666666 / 0.9166666666666666\n",
      "Macro precision/recall/F1: 0.695530481938249 0.6918108906711694 / 0.6898346411313561\n",
      "Weighted precision/recall/F1: / 0.9288418853636244 / 0.9166666666666666 / 0.919952352590828\n"
     ]
    },
    {
     "name": "stderr",
     "output_type": "stream",
     "text": [
      "/home/ec2-user/anaconda3/envs/tensorflow_p36/lib/python3.6/site-packages/sklearn/metrics/classification.py:1135: UndefinedMetricWarning: Precision and F-score are ill-defined and being set to 0.0 in labels with no predicted samples.\n",
      "  'precision', 'predicted', average, warn_for)\n",
      "/home/ec2-user/anaconda3/envs/tensorflow_p36/lib/python3.6/site-packages/sklearn/metrics/classification.py:1137: UndefinedMetricWarning: Recall and F-score are ill-defined and being set to 0.0 in labels with no true samples.\n",
      "  'recall', 'true', average, warn_for)\n"
     ]
    }
   ],
   "source": [
    "from sklearn.metrics import classification_report,precision_recall_fscore_support\n",
    "\n",
    "print(classification_report(np.array(Y_test), np.array(y_pred)))\n",
    "precision_micro, recall_micro , fbeta_micro, support_micro=precision_recall_fscore_support(np.array(Y_test), np.array(y_pred), average='micro')\n",
    "precision_macro, recall_macro , fbeta_macro, support_macro=precision_recall_fscore_support(np.array(Y_test), np.array(y_pred), average='macro')\n",
    "precision_w, recall_w , fbeta_w, support_w=precision_recall_fscore_support(np.array(Y_test), np.array(y_pred), average='weighted')\n",
    "print ('Micro precision/recall/F1:', precision_micro,'/', recall_micro,'/',fbeta_micro)\n",
    "print ('Macro precision/recall/F1:',       precision_macro, recall_macro,'/',fbeta_macro)\n",
    "print ('Weighted precision/recall/F1:','/',       precision_w,'/', recall_w,'/',fbeta_w)"
   ]
  },
  {
   "cell_type": "markdown",
   "metadata": {},
   "source": [
    "## Model 1"
   ]
  },
  {
   "cell_type": "code",
   "execution_count": 47,
   "metadata": {},
   "outputs": [
    {
     "name": "stderr",
     "output_type": "stream",
     "text": [
      "/home/ec2-user/anaconda3/envs/tensorflow_p36/lib/python3.6/site-packages/ipykernel/__main__.py:55: UserWarning: Update your `Model` call to the Keras 2 API: `Model(inputs=[<tf.Tenso..., outputs=Tensor(\"de...)`\n"
     ]
    },
    {
     "name": "stdout",
     "output_type": "stream",
     "text": [
      "__________________________________________________________________________________________________\n",
      "Layer (type)                    Output Shape         Param #     Connected to                     \n",
      "==================================================================================================\n",
      "input_7 (InputLayer)            (None, 9, 500)       0                                            \n",
      "__________________________________________________________________________________________________\n",
      "lstm_12 (LSTM)                  (None, 9, 512)       2074624     input_7[0][0]                    \n",
      "__________________________________________________________________________________________________\n",
      "lstm_13 (LSTM)                  (None, 9, 512)       2099200     lstm_12[0][0]                    \n",
      "__________________________________________________________________________________________________\n",
      "dense_18 (Dense)                (None, 9, 256)       131328      lstm_13[0][0]                    \n",
      "__________________________________________________________________________________________________\n",
      "permute_7 (Permute)             (None, 256, 9)       0           dense_18[0][0]                   \n",
      "__________________________________________________________________________________________________\n",
      "reshape_7 (Reshape)             (None, 256, 9)       0           permute_7[0][0]                  \n",
      "__________________________________________________________________________________________________\n",
      "dense_19 (Dense)                (None, 256, 9)       90          reshape_7[0][0]                  \n",
      "__________________________________________________________________________________________________\n",
      "attention_vec (Permute)         (None, 9, 256)       0           dense_19[0][0]                   \n",
      "__________________________________________________________________________________________________\n",
      "attention_mul (Concatenate)     (None, 9, 512)       0           dense_18[0][0]                   \n",
      "                                                                 attention_vec[0][0]              \n",
      "__________________________________________________________________________________________________\n",
      "flatten_7 (Flatten)             (None, 4608)         0           attention_mul[0][0]              \n",
      "__________________________________________________________________________________________________\n",
      "dense_20 (Dense)                (None, 23908)        110191972   flatten_7[0][0]                  \n",
      "==================================================================================================\n",
      "Total params: 114,497,214\n",
      "Trainable params: 114,497,214\n",
      "Non-trainable params: 0\n",
      "__________________________________________________________________________________________________\n",
      "Train on 207963 samples, validate on 51991 samples\n",
      "Epoch 1/30\n",
      "207963/207963 [==============================] - 251s 1ms/step - loss: 5.6132 - acc: 0.4099 - val_loss: 2.2524 - val_acc: 0.7237\n",
      "Epoch 2/30\n",
      "207963/207963 [==============================] - 243s 1ms/step - loss: 3.0784 - acc: 0.6382 - val_loss: 2.0024 - val_acc: 0.7788\n",
      "Epoch 3/30\n",
      "207963/207963 [==============================] - 243s 1ms/step - loss: 2.5139 - acc: 0.7291 - val_loss: 2.0859 - val_acc: 0.7862\n",
      "Epoch 4/30\n",
      "207963/207963 [==============================] - 243s 1ms/step - loss: 2.2463 - acc: 0.7772 - val_loss: 1.9611 - val_acc: 0.8050\n",
      "Epoch 5/30\n",
      "207963/207963 [==============================] - 243s 1ms/step - loss: 2.0888 - acc: 0.8030 - val_loss: 2.0075 - val_acc: 0.7987\n",
      "Epoch 6/30\n",
      "207963/207963 [==============================] - 243s 1ms/step - loss: 1.9893 - acc: 0.8192 - val_loss: 1.9692 - val_acc: 0.8180\n",
      "Epoch 7/30\n",
      "207963/207963 [==============================] - 243s 1ms/step - loss: 1.9276 - acc: 0.8293 - val_loss: 1.9086 - val_acc: 0.8265\n",
      "Epoch 8/30\n",
      "207963/207963 [==============================] - 242s 1ms/step - loss: 1.8584 - acc: 0.8386 - val_loss: 1.8362 - val_acc: 0.8385\n",
      "Epoch 9/30\n",
      "207963/207963 [==============================] - 242s 1ms/step - loss: 1.8121 - acc: 0.8451 - val_loss: 2.0318 - val_acc: 0.8158\n",
      "Epoch 10/30\n",
      "207963/207963 [==============================] - 243s 1ms/step - loss: 1.7739 - acc: 0.8499 - val_loss: 1.9043 - val_acc: 0.8303\n",
      "Epoch 11/30\n",
      "207963/207963 [==============================] - 243s 1ms/step - loss: 1.7390 - acc: 0.8544 - val_loss: 1.9265 - val_acc: 0.8264\n",
      "Epoch 12/30\n",
      "207963/207963 [==============================] - 242s 1ms/step - loss: 1.7147 - acc: 0.8567 - val_loss: 1.8879 - val_acc: 0.8340\n",
      "Epoch 13/30\n",
      "207963/207963 [==============================] - 242s 1ms/step - loss: 1.6768 - acc: 0.8616 - val_loss: 1.9332 - val_acc: 0.8244\n",
      "Epoch 14/30\n",
      "207963/207963 [==============================] - 242s 1ms/step - loss: 1.6528 - acc: 0.8636 - val_loss: 1.9971 - val_acc: 0.8243\n",
      "Epoch 15/30\n",
      "207963/207963 [==============================] - 242s 1ms/step - loss: 1.6291 - acc: 0.8662 - val_loss: 1.8933 - val_acc: 0.8367\n",
      "Epoch 16/30\n",
      "207963/207963 [==============================] - 242s 1ms/step - loss: 1.6094 - acc: 0.8683 - val_loss: 1.8213 - val_acc: 0.8450\n",
      "Epoch 17/30\n",
      "207963/207963 [==============================] - 242s 1ms/step - loss: 1.5876 - acc: 0.8703 - val_loss: 1.8887 - val_acc: 0.8289\n",
      "Epoch 18/30\n",
      "207963/207963 [==============================] - 242s 1ms/step - loss: 1.5706 - acc: 0.8724 - val_loss: 1.9289 - val_acc: 0.8344\n",
      "Epoch 19/30\n",
      "207963/207963 [==============================] - 242s 1ms/step - loss: 1.5546 - acc: 0.8730 - val_loss: 1.9652 - val_acc: 0.8355\n",
      "Epoch 20/30\n",
      "207963/207963 [==============================] - 242s 1ms/step - loss: 1.5385 - acc: 0.8756 - val_loss: 1.9099 - val_acc: 0.8378\n",
      "Epoch 21/30\n",
      "207963/207963 [==============================] - 242s 1ms/step - loss: 1.5371 - acc: 0.8758 - val_loss: 1.9284 - val_acc: 0.8389\n",
      "Epoch 22/30\n",
      "207963/207963 [==============================] - 242s 1ms/step - loss: 1.5205 - acc: 0.8770 - val_loss: 1.9417 - val_acc: 0.8345\n",
      "Epoch 23/30\n",
      "207963/207963 [==============================] - 242s 1ms/step - loss: 1.5027 - acc: 0.8786 - val_loss: 2.0033 - val_acc: 0.8250\n",
      "Epoch 24/30\n",
      "207963/207963 [==============================] - 242s 1ms/step - loss: 1.4902 - acc: 0.8797 - val_loss: 1.9484 - val_acc: 0.8389\n",
      "Epoch 25/30\n",
      "207963/207963 [==============================] - 242s 1ms/step - loss: 1.4896 - acc: 0.8807 - val_loss: 1.9435 - val_acc: 0.8375\n",
      "Epoch 26/30\n",
      "207963/207963 [==============================] - 242s 1ms/step - loss: 1.4762 - acc: 0.8816 - val_loss: 1.9785 - val_acc: 0.8253\n",
      "Epoch 27/30\n",
      "207963/207963 [==============================] - 242s 1ms/step - loss: 1.4688 - acc: 0.8819 - val_loss: 1.9907 - val_acc: 0.8292\n",
      "Epoch 28/30\n",
      "207963/207963 [==============================] - 242s 1ms/step - loss: 1.4623 - acc: 0.8826 - val_loss: 1.9364 - val_acc: 0.8367\n",
      "Epoch 29/30\n",
      "207963/207963 [==============================] - 242s 1ms/step - loss: 1.4506 - acc: 0.8839 - val_loss: 1.9912 - val_acc: 0.8210\n",
      "Epoch 30/30\n",
      "207963/207963 [==============================] - 242s 1ms/step - loss: 1.4422 - acc: 0.8846 - val_loss: 1.9790 - val_acc: 0.8352\n"
     ]
    }
   ],
   "source": [
    "m1 = model_attention_applied_after_lstmv2()\n",
    "m1.compile(optimizer='adam', loss='sparse_categorical_crossentropy', metrics=['accuracy'])\n",
    "m1.summary()\n",
    "\n",
    "hbilstmattn=m1.fit([X], y_train, epochs=30, batch_size=64, validation_split=0.2, callbacks=[callbacks])"
   ]
  },
  {
   "cell_type": "code",
   "execution_count": 88,
   "metadata": {},
   "outputs": [
    {
     "data": {
      "image/png": "[encoded data removed]",
      "text/plain": [
       "<Figure size 432x288 with 1 Axes>"
      ]
     },
     "metadata": {},
     "output_type": "display_data"
    }
   ],
   "source": [
    "   \n",
    "plotresult(hbilstmattn, '500D BTSM + 2BiLSTM+Attension', 'm1-model_attention_applied_after_bilstm.png')    "
   ]
  },
  {
   "cell_type": "markdown",
   "metadata": {},
   "source": [
    "#### Prediction and eval"
   ]
  },
  {
   "cell_type": "code",
   "execution_count": 53,
   "metadata": {},
   "outputs": [
    {
     "name": "stdout",
     "output_type": "stream",
     "text": [
      "loss/acc: [0.8889142914094786, 0.9275362336117289]\n"
     ]
    }
   ],
   "source": [
    "score = m1.evaluate(Xtest, y_test, verbose=0)\n",
    "print(\"loss/acc:\", score)"
   ]
  },
  {
   "cell_type": "markdown",
   "metadata": {},
   "source": [
    "#### Prediction"
   ]
  },
  {
   "cell_type": "code",
   "execution_count": 54,
   "metadata": {},
   "outputs": [],
   "source": [
    "y_p = m1.predict(Xtest)\n",
    "\n",
    "####obtain PT\n",
    "y_pred = [decoder[i] for i in y_p.argmax(axis=1)]"
   ]
  },
  {
   "cell_type": "code",
   "execution_count": 55,
   "metadata": {},
   "outputs": [],
   "source": [
    "#np.array(Y_test)"
   ]
  },
  {
   "cell_type": "code",
   "execution_count": 56,
   "metadata": {},
   "outputs": [
    {
     "data": {
      "text/plain": [
       "array([[0, 0, 0, ..., 0, 0, 0],\n",
       "       [0, 1, 0, ..., 0, 0, 0],\n",
       "       [0, 0, 4, ..., 0, 0, 0],\n",
       "       ...,\n",
       "       [0, 0, 0, ..., 1, 0, 0],\n",
       "       [0, 0, 0, ..., 0, 1, 0],\n",
       "       [0, 0, 0, ..., 0, 0, 5]])"
      ]
     },
     "execution_count": 56,
     "metadata": {},
     "output_type": "execute_result"
    }
   ],
   "source": [
    "from sklearn.metrics import confusion_matrix\n",
    "confusion_matrix(Y_test.tolist(), y_pred)"
   ]
  },
  {
   "cell_type": "code",
   "execution_count": 57,
   "metadata": {},
   "outputs": [
    {
     "name": "stdout",
     "output_type": "stream",
     "text": [
      "1.0\n",
      "1.0\n"
     ]
    },
    {
     "data": {
      "text/plain": [
       "1.0"
      ]
     },
     "execution_count": 57,
     "metadata": {},
     "output_type": "execute_result"
    }
   ],
   "source": [
    "#obtain indices\n",
    "y_pred_i=np.array([[encoder[i]] for i in y_pred])\n",
    "\n",
    "#obtain F1\n",
    "tensor_true, tensor_pred = K.variable(y_test), K.variable(y_pred_i)\n",
    "f1score = K.get_value(f1(tensor_true, tensor_pred))\n",
    "f1score"
   ]
  },
  {
   "cell_type": "code",
   "execution_count": 58,
   "metadata": {},
   "outputs": [
    {
     "name": "stdout",
     "output_type": "stream",
     "text": [
      "                                           precision    recall  f1-score   support\n",
      "\n",
      "                  acute myeloid leukaemia       0.00      0.00      0.00         0\n",
      "                          acute psychosis       1.00      1.00      1.00         1\n",
      "                                agitation       1.00      1.00      1.00         4\n",
      "                                akathisia       1.00      1.00      1.00         1\n",
      "       alanine aminotransferase increased       1.00      1.00      1.00         3\n",
      "                                  anaemia       1.00      1.00      1.00         1\n",
      "                          angina pectoris       1.00      1.00      1.00         1\n",
      "                            anisometropia       1.00      1.00      1.00         1\n",
      "                                 anorexia       0.00      0.00      0.00         0\n",
      "                                  anxiety       1.00      1.00      1.00        39\n",
      "                           arthropod bite       1.00      1.00      1.00         1\n",
      "     aspartate aminotransferase increased       1.00      1.00      1.00         2\n",
      "                                 asthenia       1.00      1.00      1.00         4\n",
      "      atrioventricular block first degree       1.00      1.00      1.00         1\n",
      "                                back pain       0.50      1.00      0.67         1\n",
      "                       biliary dyskinesia       1.00      1.00      1.00         1\n",
      "                 blood pressure increased       1.00      1.00      1.00         1\n",
      "                blood prolactin increased       1.00      1.00      1.00         4\n",
      "                   blood sodium decreased       1.00      1.00      1.00         1\n",
      "                              bradycardia       1.00      1.00      1.00         1\n",
      "                          cautery to nose       0.00      0.00      0.00         0\n",
      "                                    cough       1.00      1.00      1.00         1\n",
      "                       decreased appetite       1.00      0.50      0.67         2\n",
      "                              dental cyst       1.00      1.00      1.00         1\n",
      "                               depression       1.00      1.00      1.00         1\n",
      "                                diarrhoea       1.00      1.00      1.00         1\n",
      "                 disturbance in attention       1.00      1.00      1.00         2\n",
      "                                dizziness       1.00      1.00      1.00         2\n",
      "                                dry mouth       1.00      1.00      1.00         1\n",
      "           dysfunctional uterine bleeding       0.00      0.00      0.00         0\n",
      "                               dyskinesia       1.00      1.00      1.00         1\n",
      "                                dyspepsia       1.00      1.00      1.00         1\n",
      "                                  dysuria       1.00      1.00      1.00         1\n",
      "                                  fatigue       0.00      0.00      0.00         1\n",
      "                              feeling hot       0.00      0.00      0.00         0\n",
      "                         gait disturbance       0.00      0.00      0.00         0\n",
      "                                   goitre       1.00      1.00      1.00         1\n",
      "                                 headache       0.97      1.00      0.99        36\n",
      "                     heart rate increased       1.00      1.00      1.00         1\n",
      "                              hemiparesis       0.00      0.00      0.00         0\n",
      "                        hypermethioniuria       0.00      0.00      0.00         0\n",
      "                      hyperprolactinaemia       1.00      1.00      1.00         1\n",
      "                              hypotension       1.00      1.00      1.00         2\n",
      "                                 illusion       1.00      1.00      1.00         1\n",
      "                       increased appetite       1.00      1.00      1.00         2\n",
      "                                influenza       1.00      0.80      0.89         5\n",
      "                         initial insomnia       0.00      0.00      0.00         2\n",
      "                                 insomnia       0.93      1.00      0.97        28\n",
      "                             irritability       1.00      1.00      1.00         6\n",
      "                   joint microhaemorrhage       0.00      0.00      0.00         0\n",
      "                          joint stiffness       1.00      1.00      1.00         1\n",
      "                               leukopenia       1.00      1.00      1.00         1\n",
      "                          ligament sprain       1.00      1.00      1.00         1\n",
      "                            lumbarisation       0.00      0.00      0.00         0\n",
      "                                menopause       0.00      0.00      0.00         0\n",
      "                     menstruation delayed       1.00      1.00      1.00         1\n",
      "                              mood swings       1.00      1.00      1.00         1\n",
      "                           muscle fatigue       0.00      0.00      0.00         1\n",
      "                        muscular weakness       1.00      1.00      1.00         2\n",
      "               musculoskeletal discomfort       0.00      0.00      0.00         1\n",
      "                     musculoskeletal pain       1.00      1.00      1.00         1\n",
      "                musculoskeletal stiffness       1.00      0.67      0.80         3\n",
      "                                  myalgia       1.00      1.00      1.00         1\n",
      "                                   myopia       1.00      1.00      1.00         1\n",
      "                         nasal congestion       0.00      0.00      0.00         1\n",
      "                          nasopharyngitis       1.00      1.00      1.00         7\n",
      "                                   nausea       1.00      1.00      1.00         8\n",
      "                                nightmare       0.00      0.00      0.00         2\n",
      "                          nuchal rigidity       1.00      1.00      1.00         1\n",
      "                              oral herpes       1.00      1.00      1.00         1\n",
      "                       oropharyngeal pain       1.00      1.00      1.00         2\n",
      "                     pancreatitis chronic       1.00      1.00      1.00         1\n",
      "                             paraesthesia       0.00      0.00      0.00         1\n",
      "                             parkinsonism       1.00      1.00      1.00         2\n",
      "                              pharyngitis       1.00      0.50      0.67         2\n",
      "postural orthostatic tachycardia syndrome       1.00      1.00      1.00         1\n",
      "                       premature menarche       0.00      0.00      0.00         0\n",
      "                              prostatitis       1.00      1.00      1.00         1\n",
      "                       psychotic disorder       1.00      1.00      1.00         1\n",
      "                   pyoderma streptococcal       0.00      0.00      0.00         1\n",
      "              respiratory tract infection       0.00      0.00      0.00         0\n",
      "        respiratory tract infection viral       0.00      0.00      0.00         1\n",
      "                             restlessness       1.00      1.00      1.00         1\n",
      "                                 rhinitis       1.00      1.00      1.00         2\n",
      "                    road traffic accident       1.00      1.00      1.00         1\n",
      "                            schizophrenia       1.00      1.00      1.00        23\n",
      "                         sinus arrhythmia       1.00      1.00      1.00         1\n",
      "                        sinus tachycardia       1.00      1.00      1.00         3\n",
      "                               somnolence       1.00      1.00      1.00         8\n",
      "                               stomatitis       0.00      0.00      0.00         1\n",
      "                        suicidal ideation       1.00      1.00      1.00         2\n",
      "                              tachycardia       1.00      1.00      1.00         1\n",
      "                        terminal insomnia       1.00      0.67      0.80         3\n",
      "       thyroid stimulating immunoglobulin       0.00      0.00      0.00         0\n",
      "                                toothache       1.00      1.00      1.00         2\n",
      "                                   tremor       1.00      0.67      0.80         3\n",
      "              tri iodothyronine increased       0.00      0.00      0.00         1\n",
      "                      uterine haemorrhage       0.00      0.00      0.00         1\n",
      "                                  vertigo       1.00      1.00      1.00         1\n",
      "                                 vomiting       1.00      1.00      1.00         1\n",
      "                         weight decreased       1.00      1.00      1.00         5\n",
      "\n",
      "                              avg / total       0.94      0.93      0.93       276\n",
      "\n"
     ]
    },
    {
     "name": "stderr",
     "output_type": "stream",
     "text": [
      "/home/ec2-user/anaconda3/envs/tensorflow_p36/lib/python3.6/site-packages/sklearn/metrics/classification.py:1135: UndefinedMetricWarning: Precision and F-score are ill-defined and being set to 0.0 in labels with no predicted samples.\n",
      "  'precision', 'predicted', average, warn_for)\n",
      "/home/ec2-user/anaconda3/envs/tensorflow_p36/lib/python3.6/site-packages/sklearn/metrics/classification.py:1137: UndefinedMetricWarning: Recall and F-score are ill-defined and being set to 0.0 in labels with no true samples.\n",
      "  'recall', 'true', average, warn_for)\n"
     ]
    }
   ],
   "source": [
    "from sklearn.metrics import classification_report,precision_recall_fscore_support\n",
    "\n",
    "print(classification_report(np.array(Y_test), np.array(y_pred)))\n",
    "precision_micro, recall_micro , fbeta_micro, support_micro=precision_recall_fscore_support(np.array(Y_test), np.array(y_pred), average='micro')\n",
    "precision_macro, recall_macro , fbeta_macro, support_macro=precision_recall_fscore_support(np.array(Y_test), np.array(y_pred), average='macro')\n",
    "precision_w, recall_w , fbeta_w, support_w=precision_recall_fscore_support(np.array(Y_test), np.array(y_pred), average='weighted')"
   ]
  },
  {
   "cell_type": "code",
   "execution_count": 59,
   "metadata": {},
   "outputs": [
    {
     "name": "stdout",
     "output_type": "stream",
     "text": [
      "Micro precision/recall/F1: 0.927536231884058 / 0.927536231884058 / 0.927536231884058\n",
      "Macro precision/recall/F1: 0.7366961020426367 0.7207920792079208 / 0.7251555198032793\n",
      "Weighted precision/recall/F1: / 0.9371752186969579 / 0.927536231884058 / 0.9294170646792281\n"
     ]
    }
   ],
   "source": [
    "print ('Micro precision/recall/F1:', precision_micro,'/', recall_micro,'/',fbeta_micro)\n",
    "print ('Macro precision/recall/F1:',       precision_macro, recall_macro,'/',fbeta_macro)\n",
    "print ('Weighted precision/recall/F1:','/',       precision_w,'/', recall_w,'/',fbeta_w)"
   ]
  },
  {
   "cell_type": "markdown",
   "metadata": {},
   "source": [
    "## model_attention_applied_before_lstmv"
   ]
  },
  {
   "cell_type": "code",
   "execution_count": 65,
   "metadata": {},
   "outputs": [],
   "source": []
  },
  {
   "cell_type": "code",
   "execution_count": 67,
   "metadata": {},
   "outputs": [
    {
     "name": "stderr",
     "output_type": "stream",
     "text": [
      "/home/ec2-user/anaconda3/envs/tensorflow_p36/lib/python3.6/site-packages/ipykernel/__main__.py:11: UserWarning: Update your `Model` call to the Keras 2 API: `Model(inputs=[<tf.Tenso..., outputs=Tensor(\"de...)`\n"
     ]
    },
    {
     "name": "stdout",
     "output_type": "stream",
     "text": [
      "__________________________________________________________________________________________________\n",
      "Layer (type)                    Output Shape         Param #     Connected to                     \n",
      "==================================================================================================\n",
      "input_11 (InputLayer)           (None, 9, 500)       0                                            \n",
      "__________________________________________________________________________________________________\n",
      "permute_11 (Permute)            (None, 500, 9)       0           input_11[0][0]                   \n",
      "__________________________________________________________________________________________________\n",
      "reshape_11 (Reshape)            (None, 500, 9)       0           permute_11[0][0]                 \n",
      "__________________________________________________________________________________________________\n",
      "dense_29 (Dense)                (None, 500, 9)       90          reshape_11[0][0]                 \n",
      "__________________________________________________________________________________________________\n",
      "attention_vec (Permute)         (None, 9, 500)       0           dense_29[0][0]                   \n",
      "__________________________________________________________________________________________________\n",
      "attention_mul (Concatenate)     (None, 9, 1000)      0           input_11[0][0]                   \n",
      "                                                                 attention_vec[0][0]              \n",
      "__________________________________________________________________________________________________\n",
      "lstm_17 (LSTM)                  (None, 9, 256)       1287168     attention_mul[0][0]              \n",
      "__________________________________________________________________________________________________\n",
      "flatten_9 (Flatten)             (None, 2304)         0           lstm_17[0][0]                    \n",
      "__________________________________________________________________________________________________\n",
      "dense_30 (Dense)                (None, 128)          295040      flatten_9[0][0]                  \n",
      "__________________________________________________________________________________________________\n",
      "dense_31 (Dense)                (None, 23908)        3084132     dense_30[0][0]                   \n",
      "==================================================================================================\n",
      "Total params: 4,666,430\n",
      "Trainable params: 4,666,430\n",
      "Non-trainable params: 0\n",
      "__________________________________________________________________________________________________\n",
      "Train on 207963 samples, validate on 51991 samples\n",
      "Epoch 1/30\n",
      "207963/207963 [==============================] - 99s 475us/step - loss: 5.0405 - acc: 0.4112 - val_loss: 1.8351 - val_acc: 0.7780\n",
      "Epoch 2/30\n",
      "207963/207963 [==============================] - 95s 457us/step - loss: 2.5406 - acc: 0.6359 - val_loss: 1.4868 - val_acc: 0.8139\n",
      "Epoch 3/30\n",
      "207963/207963 [==============================] - 95s 455us/step - loss: 1.5129 - acc: 0.7598 - val_loss: 1.3913 - val_acc: 0.8304\n",
      "Epoch 4/30\n",
      "207963/207963 [==============================] - 95s 456us/step - loss: 1.0379 - acc: 0.8305 - val_loss: 1.3880 - val_acc: 0.8315\n",
      "Epoch 5/30\n",
      "207963/207963 [==============================] - 95s 455us/step - loss: 0.8044 - acc: 0.8688 - val_loss: 1.3858 - val_acc: 0.8411\n",
      "Epoch 6/30\n",
      "207963/207963 [==============================] - 95s 457us/step - loss: 0.6844 - acc: 0.8910 - val_loss: 1.3700 - val_acc: 0.8415\n",
      "Epoch 7/30\n",
      "207963/207963 [==============================] - 95s 456us/step - loss: 0.6295 - acc: 0.9033 - val_loss: 1.3283 - val_acc: 0.8394\n",
      "Epoch 8/30\n",
      "207963/207963 [==============================] - 95s 456us/step - loss: 0.5955 - acc: 0.9116 - val_loss: 1.4334 - val_acc: 0.8405\n",
      "Epoch 9/30\n",
      "207963/207963 [==============================] - 95s 455us/step - loss: 0.5825 - acc: 0.9146 - val_loss: 1.4683 - val_acc: 0.8420\n",
      "Epoch 10/30\n",
      "207963/207963 [==============================] - 95s 457us/step - loss: 0.5701 - acc: 0.9175 - val_loss: 1.3215 - val_acc: 0.8535\n",
      "Reached 85% validation accuracy so cancelling training\n"
     ]
    }
   ],
   "source": [
    "\n",
    "\n",
    "m2 = model_attention_applied_before_lstmv()\n",
    "m2.compile(optimizer='adam', loss='sparse_categorical_crossentropy', metrics=['accuracy'])\n",
    "m2.summary()\n",
    "\n",
    "hattenlstm=m2.fit([X], y_train, epochs=30, batch_size=64, validation_split=0.2, callbacks=[callbacks])"
   ]
  },
  {
   "cell_type": "code",
   "execution_count": 89,
   "metadata": {},
   "outputs": [
    {
     "data": {
      "image/png": "[encoded data removed]",
      "text/plain": [
       "<Figure size 432x288 with 1 Axes>"
      ]
     },
     "metadata": {},
     "output_type": "display_data"
    }
   ],
   "source": [
    "   \n",
    "plotresult(hattenlstm, '500D BTSM + Attension +LSTM', 'm2-model_attention_applied_before_lstm.png')    "
   ]
  },
  {
   "cell_type": "code",
   "execution_count": null,
   "metadata": {},
   "outputs": [],
   "source": [
    "sess = tf.InteractiveSession()\n",
    "sess.run(f1_score(y_test, y_pred_i))\n"
   ]
  },
  {
   "cell_type": "code",
   "execution_count": null,
   "metadata": {},
   "outputs": [
    {
     "name": "stderr",
     "output_type": "stream",
     "text": [
      "/home/ec2-user/anaconda3/envs/tensorflow_p36/lib/python3.6/site-packages/ipykernel/__main__.py:11: UserWarning: Update your `Model` call to the Keras 2 API: `Model(inputs=[<tf.Tenso..., outputs=Tensor(\"de...)`\n"
     ]
    },
    {
     "name": "stdout",
     "output_type": "stream",
     "text": [
      "__________________________________________________________________________________________________\n",
      "Layer (type)                    Output Shape         Param #     Connected to                     \n",
      "==================================================================================================\n",
      "input_13 (InputLayer)           (None, 9, 500)       0                                            \n",
      "__________________________________________________________________________________________________\n",
      "permute_13 (Permute)            (None, 500, 9)       0           input_13[0][0]                   \n",
      "__________________________________________________________________________________________________\n",
      "reshape_13 (Reshape)            (None, 500, 9)       0           permute_13[0][0]                 \n",
      "__________________________________________________________________________________________________\n",
      "dense_35 (Dense)                (None, 500, 9)       90          reshape_13[0][0]                 \n",
      "__________________________________________________________________________________________________\n",
      "attention_vec (Permute)         (None, 9, 500)       0           dense_35[0][0]                   \n",
      "__________________________________________________________________________________________________\n",
      "attention_mul (Concatenate)     (None, 9, 1000)      0           input_13[0][0]                   \n",
      "                                                                 attention_vec[0][0]              \n",
      "__________________________________________________________________________________________________\n",
      "lstm_19 (LSTM)                  (None, 9, 256)       1287168     attention_mul[0][0]              \n",
      "__________________________________________________________________________________________________\n",
      "flatten_11 (Flatten)            (None, 2304)         0           lstm_19[0][0]                    \n",
      "__________________________________________________________________________________________________\n",
      "dense_36 (Dense)                (None, 128)          295040      flatten_11[0][0]                 \n",
      "__________________________________________________________________________________________________\n",
      "dense_37 (Dense)                (None, 23908)        3084132     dense_36[0][0]                   \n",
      "==================================================================================================\n",
      "Total params: 4,666,430\n",
      "Trainable params: 4,666,430\n",
      "Non-trainable params: 0\n",
      "__________________________________________________________________________________________________\n",
      "Train on 207963 samples, validate on 51991 samples\n",
      "Epoch 1/30\n",
      "207963/207963 [==============================] - 100s 479us/step - loss: 5.0140 - acc: 0.4136 - val_loss: 1.7087 - val_acc: 0.7737\n",
      "Epoch 2/30\n",
      "207963/207963 [==============================] - 95s 458us/step - loss: 2.5134 - acc: 0.6401 - val_loss: 1.3026 - val_acc: 0.8219\n",
      "Epoch 3/30\n",
      "207963/207963 [==============================] - 95s 459us/step - loss: 1.5295 - acc: 0.7585 - val_loss: 1.2392 - val_acc: 0.8284\n",
      "Epoch 4/30\n",
      "207963/207963 [==============================] - 95s 458us/step - loss: 1.0603 - acc: 0.8276 - val_loss: 1.2284 - val_acc: 0.8424\n",
      "Epoch 5/30\n",
      "207963/207963 [==============================] - 95s 459us/step - loss: 0.8311 - acc: 0.8651 - val_loss: 1.2594 - val_acc: 0.8416\n",
      "Epoch 6/30\n",
      "207963/207963 [==============================] - 95s 457us/step - loss: 0.7071 - acc: 0.8885 - val_loss: 1.2337 - val_acc: 0.8465\n",
      "Epoch 7/30\n",
      "207963/207963 [==============================] - 95s 458us/step - loss: 0.6446 - acc: 0.9024 - val_loss: 1.2461 - val_acc: 0.8546\n",
      "Epoch 8/30\n",
      "207963/207963 [==============================] - 95s 457us/step - loss: 0.6138 - acc: 0.9094 - val_loss: 1.3068 - val_acc: 0.8444\n",
      "Epoch 9/30\n",
      "207963/207963 [==============================] - 95s 459us/step - loss: 0.5945 - acc: 0.9136 - val_loss: 1.3156 - val_acc: 0.8431\n",
      "Epoch 10/30\n",
      "207963/207963 [==============================] - 95s 457us/step - loss: 0.5807 - acc: 0.9169 - val_loss: 1.3043 - val_acc: 0.8444\n",
      "Epoch 11/30\n",
      "207963/207963 [==============================] - 95s 459us/step - loss: 0.5694 - acc: 0.9196 - val_loss: 1.3267 - val_acc: 0.8443\n",
      "Epoch 12/30\n",
      "207963/207963 [==============================] - 95s 458us/step - loss: 0.5612 - acc: 0.9215 - val_loss: 1.3547 - val_acc: 0.8476\n",
      "Epoch 13/30\n",
      "207963/207963 [==============================] - 95s 459us/step - loss: 0.5548 - acc: 0.9230 - val_loss: 1.3595 - val_acc: 0.8383\n",
      "Epoch 14/30\n",
      "207963/207963 [==============================] - 95s 458us/step - loss: 0.5486 - acc: 0.9238 - val_loss: 1.3654 - val_acc: 0.8436\n",
      "Epoch 15/30\n",
      "207963/207963 [==============================] - 95s 458us/step - loss: 0.5407 - acc: 0.9245 - val_loss: 1.3963 - val_acc: 0.8430\n",
      "Epoch 16/30\n",
      "207963/207963 [==============================] - 95s 458us/step - loss: 0.5347 - acc: 0.9256 - val_loss: 1.3626 - val_acc: 0.8526\n",
      "Epoch 17/30\n",
      "207963/207963 [==============================] - 95s 457us/step - loss: 0.5312 - acc: 0.9263 - val_loss: 1.3935 - val_acc: 0.8464\n",
      "Epoch 18/30\n",
      "168192/207963 [=======================>......] - ETA: 16s - loss: 0.5242 - acc: 0.9276"
     ]
    }
   ],
   "source": [
    "callbacks=callback_()\n",
    "\n",
    "m2b = model_attention_applied_before_lstmv()\n",
    "m2b.compile(optimizer='adam', loss='sparse_categorical_crossentropy', metrics=['accuracy'])\n",
    "m2b.summary()\n",
    "\n",
    "hattenlstm=m2b.fit([X], y_train, epochs=30, batch_size=64, validation_split=0.2, callbacks=[callbacks])\n",
    "hattenlstm=m2b.fit([X], y_train, epochs=30, batch_size=64, validation_split=0.2, callbacks=[callbacks])"
   ]
  },
  {
   "cell_type": "code",
   "execution_count": 119,
   "metadata": {},
   "outputs": [
    {
     "name": "stdout",
     "output_type": "stream",
     "text": [
      "                                           precision    recall  f1-score   support\n",
      "\n",
      "                          acute psychosis       1.00      1.00      1.00         1\n",
      "                                agitation       1.00      1.00      1.00         4\n",
      "                                akathisia       1.00      1.00      1.00         1\n",
      "       alanine aminotransferase increased       1.00      1.00      1.00         3\n",
      "                                  anaemia       1.00      1.00      1.00         1\n",
      "                          angina pectoris       1.00      1.00      1.00         1\n",
      "                            anisometropia       0.00      0.00      0.00         1\n",
      "                                 anorexia       0.00      0.00      0.00         0\n",
      "                     antisocial behaviour       0.00      0.00      0.00         0\n",
      "                                  anxiety       1.00      1.00      1.00        39\n",
      "                           arthropod bite       1.00      1.00      1.00         1\n",
      "     aspartate aminotransferase increased       1.00      1.00      1.00         2\n",
      "                                 asthenia       1.00      1.00      1.00         4\n",
      "      atrioventricular block first degree       1.00      1.00      1.00         1\n",
      "                                back pain       1.00      1.00      1.00         1\n",
      "                       biliary dyskinesia       1.00      1.00      1.00         1\n",
      "                 blood pressure increased       1.00      1.00      1.00         1\n",
      "                blood prolactin increased       1.00      1.00      1.00         4\n",
      "                   blood sodium decreased       1.00      1.00      1.00         1\n",
      "                              bradycardia       1.00      1.00      1.00         1\n",
      "                      cervical friability       0.00      0.00      0.00         0\n",
      "                                    cough       1.00      1.00      1.00         1\n",
      "                       decreased appetite       1.00      0.50      0.67         2\n",
      "                              dental cyst       1.00      1.00      1.00         1\n",
      "                               depression       1.00      1.00      1.00         1\n",
      "                                diarrhoea       1.00      1.00      1.00         1\n",
      "                 disturbance in attention       1.00      1.00      1.00         2\n",
      "                                dizziness       1.00      1.00      1.00         2\n",
      "                                dry mouth       1.00      1.00      1.00         1\n",
      "                               dyskinesia       1.00      1.00      1.00         1\n",
      "                                dyspepsia       1.00      1.00      1.00         1\n",
      "                                  dysuria       1.00      1.00      1.00         1\n",
      "                            early satiety       0.00      0.00      0.00         0\n",
      "                            euphoric mood       0.00      0.00      0.00         0\n",
      "                                  fatigue       0.00      0.00      0.00         1\n",
      "                                   goitre       1.00      1.00      1.00         1\n",
      "                                 headache       1.00      1.00      1.00        36\n",
      "                     heart rate increased       0.00      0.00      0.00         1\n",
      "                      hyperprolactinaemia       1.00      1.00      1.00         1\n",
      "                             hypertension       0.00      0.00      0.00         0\n",
      "                              hypotension       1.00      1.00      1.00         2\n",
      "                                 illusion       1.00      1.00      1.00         1\n",
      "                       increased appetite       1.00      1.00      1.00         2\n",
      "                                influenza       1.00      0.80      0.89         5\n",
      "                         initial insomnia       0.00      0.00      0.00         2\n",
      "                                 insomnia       0.93      1.00      0.97        28\n",
      "                             irritability       1.00      1.00      1.00         6\n",
      "                             joint sprain       0.00      0.00      0.00         0\n",
      "                          joint stiffness       1.00      1.00      1.00         1\n",
      "                               leukopenia       1.00      1.00      1.00         1\n",
      "                          ligament sprain       0.00      0.00      0.00         1\n",
      "             liver function test abnormal       0.00      0.00      0.00         0\n",
      "                                mammogram       0.00      0.00      0.00         0\n",
      "                     menstruation delayed       0.00      0.00      0.00         1\n",
      "                              mood swings       1.00      1.00      1.00         1\n",
      "                           muscle fatigue       0.00      0.00      0.00         1\n",
      "                        muscular weakness       1.00      1.00      1.00         2\n",
      "               musculoskeletal discomfort       1.00      1.00      1.00         1\n",
      "                 musculoskeletal disorder       0.00      0.00      0.00         0\n",
      "                     musculoskeletal pain       1.00      1.00      1.00         1\n",
      "                musculoskeletal stiffness       1.00      0.67      0.80         3\n",
      "                                  myalgia       1.00      1.00      1.00         1\n",
      "                                   myopia       1.00      1.00      1.00         1\n",
      "                         nasal congestion       1.00      1.00      1.00         1\n",
      "                          nasopharyngitis       1.00      1.00      1.00         7\n",
      "                                   nausea       1.00      1.00      1.00         8\n",
      "                                nightmare       0.00      0.00      0.00         2\n",
      "                          nuchal rigidity       1.00      1.00      1.00         1\n",
      "                              oral herpes       1.00      1.00      1.00         1\n",
      "                       oropharyngeal pain       1.00      1.00      1.00         2\n",
      "                     pancreatitis chronic       1.00      1.00      1.00         1\n",
      "                             paraesthesia       1.00      1.00      1.00         1\n",
      "                             parkinsonism       0.67      1.00      0.80         2\n",
      "                              pharyngitis       1.00      0.50      0.67         2\n",
      "postural orthostatic tachycardia syndrome       1.00      1.00      1.00         1\n",
      "                              prostatitis       1.00      1.00      1.00         1\n",
      "                       psychotic disorder       1.00      1.00      1.00         1\n",
      "                   pyoderma streptococcal       0.00      0.00      0.00         1\n",
      "        respiratory tract infection viral       0.00      0.00      0.00         1\n",
      "                             restlessness       1.00      1.00      1.00         1\n",
      "                                 rhinitis       1.00      1.00      1.00         2\n",
      "                    road traffic accident       1.00      1.00      1.00         1\n",
      "                            schizophrenia       1.00      0.96      0.98        23\n",
      "                         sinus arrhythmia       1.00      1.00      1.00         1\n",
      "                        sinus tachycardia       1.00      1.00      1.00         3\n",
      "                               somnolence       1.00      1.00      1.00         8\n",
      "                               stomatitis       1.00      1.00      1.00         1\n",
      "                        suicidal ideation       1.00      1.00      1.00         2\n",
      "                              tachycardia       1.00      1.00      1.00         1\n",
      "                        terminal insomnia       1.00      0.67      0.80         3\n",
      "                           thrombocytosis       0.00      0.00      0.00         0\n",
      "                                toothache       1.00      1.00      1.00         2\n",
      "                                   tremor       1.00      0.67      0.80         3\n",
      "              tri iodothyronine increased       0.00      0.00      0.00         1\n",
      "                      uterine haemorrhage       0.00      0.00      0.00         1\n",
      "                        vaginal infection       0.00      0.00      0.00         0\n",
      "                                  vertigo       1.00      1.00      1.00         1\n",
      "  viral upper respiratory tract infection       0.00      0.00      0.00         0\n",
      "                                 vomiting       1.00      1.00      1.00         1\n",
      "                         weight decreased       1.00      1.00      1.00         5\n",
      "\n",
      "                              avg / total       0.94      0.92      0.93       276\n",
      "\n",
      "Micro precision/recall/F1: 0.9239130434782609 / 0.9239130434782609 / 0.9239130434782609\n",
      "Macro precision/recall/F1: 0.7460000000000001 0.7275652173913043 / 0.7336551724137931\n",
      "Weighted precision/recall/F1: / 0.9400966183574878 / 0.9239130434782609 / 0.9291104447776112\n"
     ]
    },
    {
     "name": "stderr",
     "output_type": "stream",
     "text": [
      "/home/ec2-user/anaconda3/envs/tensorflow_p36/lib/python3.6/site-packages/sklearn/metrics/classification.py:1135: UndefinedMetricWarning: Precision and F-score are ill-defined and being set to 0.0 in labels with no predicted samples.\n",
      "  'precision', 'predicted', average, warn_for)\n",
      "/home/ec2-user/anaconda3/envs/tensorflow_p36/lib/python3.6/site-packages/sklearn/metrics/classification.py:1137: UndefinedMetricWarning: Recall and F-score are ill-defined and being set to 0.0 in labels with no true samples.\n",
      "  'recall', 'true', average, warn_for)\n"
     ]
    }
   ],
   "source": [
    "y_p = m2b.predict(Xtest)\n",
    "\n",
    "####obtain PT\n",
    "y_pred = [decoder[i] for i in y_p.argmax(axis=1)]\n",
    "from sklearn.metrics import confusion_matrix\n",
    "confusion_matrix(Y_test.tolist(), y_pred)\n",
    "#obtain indices\n",
    "y_pred_i=np.array([[encoder[i]] for i in y_pred])\n",
    "from sklearn.metrics import classification_report,precision_recall_fscore_support\n",
    "\n",
    "print(classification_report(np.array(Y_test), np.array(y_pred)))\n",
    "precision_micro, recall_micro , fbeta_micro, support_micro=precision_recall_fscore_support(np.array(Y_test), np.array(y_pred), average='micro')\n",
    "precision_macro, recall_macro , fbeta_macro, support_macro=precision_recall_fscore_support(np.array(Y_test), np.array(y_pred), average='macro')\n",
    "precision_w, recall_w , fbeta_w, support_w=precision_recall_fscore_support(np.array(Y_test), np.array(y_pred), average='weighted')\n",
    "print ('Micro precision/recall/F1:', precision_micro,'/', recall_micro,'/',fbeta_micro)\n",
    "print ('Macro precision/recall/F1:',       precision_macro, recall_macro,'/',fbeta_macro)\n",
    "print ('Weighted precision/recall/F1:','/',       precision_w,'/', recall_w,'/',fbeta_w)"
   ]
  },
  {
   "cell_type": "code",
   "execution_count": 48,
   "metadata": {},
   "outputs": [],
   "source": [
    "def model_conv_sm():\n",
    "    inputs = Input(shape=(WINDOWS_Size, INPUT_DIM,))\n",
    "    attention_mul = attention_3d_block(inputs)\n",
    "    conv_0 = Conv1D(64, 3,activation='relu',kernel_regularizer=regularizers.l2(0.01))(attention_mul)\n",
    "    conv_1 = Conv1D(64, 5,activation='relu',kernel_regularizer=regularizers.l2(0.01))(attention_mul)\n",
    "    conv_2 = Conv1D(64, 7,activation='relu',kernel_regularizer=regularizers.l2(0.01))(attention_mul)\n",
    "\n",
    "    maxpool_0 = MaxPooling1D(pool_size=3)(conv_0)\n",
    "    maxpool_1 = MaxPooling1D(pool_size=3)(conv_1)\n",
    "    maxpool_2 = MaxPooling1D(pool_size=3)(conv_2)\n",
    "\n",
    "    merged_tensor = concatenate([maxpool_0, maxpool_1,maxpool_2], axis=1)\n",
    "    lstm_out = Bidirectional(LSTM(256, activation='tanh',recurrent_regularizer=regularizers.l2(0.01),return_sequences=True))(maxpool_0)\n",
    "    merged_tensor = Flatten()(lstm_out)\n",
    "    dnn_out=Dense(64, activation=tf.nn.relu)(merged_tensor)\n",
    "    output = Dense(CLASSES, activation='softmax')(merged_tensor)\n",
    "    model = Model(input=[inputs], output=output)\n",
    "    return model"
   ]
  },
  {
   "cell_type": "code",
   "execution_count": null,
   "metadata": {},
   "outputs": [],
   "source": []
  },
  {
   "cell_type": "markdown",
   "metadata": {},
   "source": [
    "## convolv"
   ]
  },
  {
   "cell_type": "code",
   "execution_count": 51,
   "metadata": {},
   "outputs": [],
   "source": [
    "K.clear_session()\n",
    "\n",
    "#embedding_layer(100)"
   ]
  },
  {
   "cell_type": "markdown",
   "metadata": {},
   "source": [
    "dir_path = 'output'\n",
    "tensor_path = 'output/log_dir'\n",
    "os.makedirs(tensor_path)"
   ]
  },
  {
   "cell_type": "code",
   "execution_count": 53,
   "metadata": {},
   "outputs": [
    {
     "name": "stderr",
     "output_type": "stream",
     "text": [
      "/home/ec2-user/anaconda3/envs/tensorflow_p36/lib/python3.6/site-packages/ipykernel/__main__.py:17: UserWarning: Update your `Model` call to the Keras 2 API: `Model(inputs=[<tf.Tenso..., outputs=Tensor(\"de...)`\n"
     ]
    },
    {
     "name": "stdout",
     "output_type": "stream",
     "text": [
      "__________________________________________________________________________________________________\n",
      "Layer (type)                    Output Shape         Param #     Connected to                     \n",
      "==================================================================================================\n",
      "input_2 (InputLayer)            (None, 9, 100)       0                                            \n",
      "__________________________________________________________________________________________________\n",
      "permute_2 (Permute)             (None, 100, 9)       0           input_2[0][0]                    \n",
      "__________________________________________________________________________________________________\n",
      "reshape_2 (Reshape)             (None, 100, 9)       0           permute_2[0][0]                  \n",
      "__________________________________________________________________________________________________\n",
      "dense_4 (Dense)                 (None, 100, 9)       90          reshape_2[0][0]                  \n",
      "__________________________________________________________________________________________________\n",
      "attention_vec (Permute)         (None, 9, 100)       0           dense_4[0][0]                    \n",
      "__________________________________________________________________________________________________\n",
      "attention_mul (Concatenate)     (None, 9, 200)       0           input_2[0][0]                    \n",
      "                                                                 attention_vec[0][0]              \n",
      "__________________________________________________________________________________________________\n",
      "conv1d_4 (Conv1D)               (None, 7, 64)        38464       attention_mul[0][0]              \n",
      "__________________________________________________________________________________________________\n",
      "max_pooling1d_4 (MaxPooling1D)  (None, 2, 64)        0           conv1d_4[0][0]                   \n",
      "__________________________________________________________________________________________________\n",
      "bidirectional_2 (Bidirectional) (None, 2, 512)       657408      max_pooling1d_4[0][0]            \n",
      "__________________________________________________________________________________________________\n",
      "flatten_2 (Flatten)             (None, 1024)         0           bidirectional_2[0][0]            \n",
      "__________________________________________________________________________________________________\n",
      "dense_6 (Dense)                 (None, 23908)        24505700    flatten_2[0][0]                  \n",
      "==================================================================================================\n",
      "Total params: 25,201,662\n",
      "Trainable params: 25,201,662\n",
      "Non-trainable params: 0\n",
      "__________________________________________________________________________________________________\n",
      "Train on 207963 samples, validate on 51991 samples\n",
      "Epoch 1/30\n",
      "207963/207963 [==============================] - 118s 569us/step - loss: 4.3774 - acc: 0.4662 - val_loss: 1.6842 - val_acc: 0.7669\n",
      "Epoch 2/30\n",
      "207963/207963 [==============================] - 115s 554us/step - loss: 2.1498 - acc: 0.6703 - val_loss: 1.5283 - val_acc: 0.7955\n",
      "Epoch 3/30\n",
      "207963/207963 [==============================] - 115s 554us/step - loss: 1.5611 - acc: 0.7512 - val_loss: 1.4684 - val_acc: 0.8130\n",
      "Epoch 4/30\n",
      "207963/207963 [==============================] - 115s 555us/step - loss: 1.3050 - acc: 0.7981 - val_loss: 1.4662 - val_acc: 0.8216\n",
      "Epoch 5/30\n",
      "207963/207963 [==============================] - 115s 555us/step - loss: 1.1636 - acc: 0.8272 - val_loss: 1.4986 - val_acc: 0.8229\n",
      "Epoch 6/30\n",
      "207963/207963 [==============================] - 115s 554us/step - loss: 1.0738 - acc: 0.8461 - val_loss: 1.4484 - val_acc: 0.8303\n",
      "Epoch 7/30\n",
      "207963/207963 [==============================] - 115s 554us/step - loss: 1.0100 - acc: 0.8601 - val_loss: 1.5034 - val_acc: 0.8241\n",
      "Epoch 8/30\n",
      "207963/207963 [==============================] - 115s 554us/step - loss: 0.9657 - acc: 0.8686 - val_loss: 1.5607 - val_acc: 0.8190\n",
      "Epoch 9/30\n",
      "207963/207963 [==============================] - 115s 554us/step - loss: 0.9314 - acc: 0.8764 - val_loss: 1.4981 - val_acc: 0.8332\n"
     ]
    }
   ],
   "source": [
    "early_stop = EarlyStopping(monitor='val_loss', min_delta=0, patience=3, verbose=0, mode='auto')\n",
    "#ckpt_save = os.path.join(dir_path, 'BTWS100D+atten+pconv.hdf5')\n",
    "#checkpoint = ModelCheckpoint(ckpt_save, monitor='val_loss', verbose=1, save_best_only=True)\n",
    "#tensorboard = TensorBoard(log_dir=dir_path, histogram_freq=2000, write_graph=True, write_images=False)\n",
    "callback_list = [early_stop, tensorboard]\n",
    "\n",
    "m3 = model_conv_sm()\n",
    "m3.compile(optimizer='adam', loss='sparse_categorical_crossentropy', metrics=['accuracy'])\n",
    "m3.summary()\n",
    "\n",
    "hm3=m3.fit([X], y_train, epochs=30, batch_size=32, validation_split=0.2, callbacks=[early_stop])"
   ]
  },
  {
   "cell_type": "code",
   "execution_count": 59,
   "metadata": {},
   "outputs": [
    {
     "data": {
      "image/png": "[encoded data removed]",
      "text/plain": [
       "<Figure size 432x288 with 1 Axes>"
      ]
     },
     "metadata": {},
     "output_type": "display_data"
    },
    {
     "name": "stdout",
     "output_type": "stream",
     "text": [
      "Saved model to disk\n"
     ]
    }
   ],
   "source": [
    "file='m3-atten+parallel_conv+lstm'\n",
    "plotresult(hm3, '100D BTSM + ParallelCov', file+'.png') \n",
    "# serialize model to JSON\n",
    "model_json = m3.to_json()\n",
    "with open('models/100d/'+file+'.json', 'w') as json_file:\n",
    "    json_file.write(model_json)\n",
    "# serialize weights to HDF5\n",
    "m3.save_weights('models/100d/'+file+'.h5')\n",
    "print(\"Saved model to disk\")\n",
    " "
   ]
  },
  {
   "cell_type": "code",
   "execution_count": 55,
   "metadata": {},
   "outputs": [
    {
     "name": "stdout",
     "output_type": "stream",
     "text": [
      "loss/acc: [0.6097356141477391, 0.9347826069679813]\n"
     ]
    }
   ],
   "source": [
    "score = m3.evaluate(Xtest, y_test, verbose=0)\n",
    "print(\"loss/acc:\", score)"
   ]
  },
  {
   "cell_type": "code",
   "execution_count": 56,
   "metadata": {},
   "outputs": [
    {
     "name": "stdout",
     "output_type": "stream",
     "text": [
      "                                           precision    recall  f1-score   support\n",
      "\n",
      "                          acute psychosis       1.00      1.00      1.00         1\n",
      "                                agitation       1.00      1.00      1.00         4\n",
      "                                akathisia       1.00      1.00      1.00         1\n",
      "       alanine aminotransferase increased       1.00      1.00      1.00         3\n",
      "                                  anaemia       1.00      1.00      1.00         1\n",
      "                          angina pectoris       1.00      1.00      1.00         1\n",
      "                            anisometropia       1.00      1.00      1.00         1\n",
      "                                  anxiety       1.00      1.00      1.00        39\n",
      "                           arthropod bite       1.00      1.00      1.00         1\n",
      "     aspartate aminotransferase increased       1.00      1.00      1.00         2\n",
      "                                 asthenia       1.00      1.00      1.00         4\n",
      "      atrioventricular block first degree       1.00      1.00      1.00         1\n",
      "                                back pain       1.00      1.00      1.00         1\n",
      "                       biliary dyskinesia       1.00      1.00      1.00         1\n",
      "                 blood pressure increased       1.00      1.00      1.00         1\n",
      "                blood prolactin increased       1.00      1.00      1.00         4\n",
      "                   blood sodium decreased       1.00      1.00      1.00         1\n",
      "                              bradycardia       1.00      1.00      1.00         1\n",
      "                                    cough       1.00      1.00      1.00         1\n",
      "                       decreased appetite       1.00      1.00      1.00         2\n",
      "                              dental cyst       0.00      0.00      0.00         1\n",
      "                               depression       1.00      1.00      1.00         1\n",
      "                                diarrhoea       1.00      1.00      1.00         1\n",
      "                 disturbance in attention       1.00      1.00      1.00         2\n",
      "                                dizziness       1.00      1.00      1.00         2\n",
      "                                dry mouth       1.00      1.00      1.00         1\n",
      "                               dyskinesia       1.00      1.00      1.00         1\n",
      "                                dyspepsia       1.00      1.00      1.00         1\n",
      "                                  dysuria       1.00      1.00      1.00         1\n",
      "                            early satiety       0.00      0.00      0.00         0\n",
      "                            euphoric mood       0.00      0.00      0.00         0\n",
      "                                  fatigue       0.00      0.00      0.00         1\n",
      "                              feeling hot       0.00      0.00      0.00         0\n",
      "                                   goitre       1.00      1.00      1.00         1\n",
      "                                 headache       1.00      1.00      1.00        36\n",
      "                     heart rate decreased       0.00      0.00      0.00         0\n",
      "                     heart rate increased       0.00      0.00      0.00         1\n",
      "                      hyperprolactinaemia       1.00      1.00      1.00         1\n",
      "                              hypotension       1.00      1.00      1.00         2\n",
      "                                 illusion       1.00      1.00      1.00         1\n",
      "                       increased appetite       1.00      1.00      1.00         2\n",
      "                             indifference       0.00      0.00      0.00         0\n",
      "                                influenza       1.00      0.80      0.89         5\n",
      "                         initial insomnia       0.00      0.00      0.00         2\n",
      "                                 insomnia       0.93      1.00      0.97        28\n",
      "                             irritability       1.00      1.00      1.00         6\n",
      "                             joint sprain       0.00      0.00      0.00         0\n",
      "                          joint stiffness       1.00      1.00      1.00         1\n",
      "                               leukopenia       1.00      1.00      1.00         1\n",
      "                          ligament sprain       0.00      0.00      0.00         1\n",
      "                       menstrual disorder       0.00      0.00      0.00         0\n",
      "                     menstruation delayed       1.00      1.00      1.00         1\n",
      "                              mood swings       1.00      1.00      1.00         1\n",
      "                           muscle fatigue       1.00      1.00      1.00         1\n",
      "                        muscular weakness       1.00      1.00      1.00         2\n",
      "               musculoskeletal discomfort       1.00      1.00      1.00         1\n",
      "                     musculoskeletal pain       0.50      1.00      0.67         1\n",
      "                musculoskeletal stiffness       1.00      0.67      0.80         3\n",
      "                                  myalgia       1.00      1.00      1.00         1\n",
      "                                   myopia       1.00      1.00      1.00         1\n",
      "                         nasal congestion       1.00      1.00      1.00         1\n",
      "                          nasopharyngitis       1.00      1.00      1.00         7\n",
      "                                   nausea       1.00      1.00      1.00         8\n",
      "                                nightmare       0.00      0.00      0.00         2\n",
      "                          nuchal rigidity       1.00      1.00      1.00         1\n",
      "                              oral herpes       1.00      1.00      1.00         1\n",
      "                       oropharyngeal pain       1.00      1.00      1.00         2\n",
      "                     pancreatitis chronic       1.00      1.00      1.00         1\n",
      "                             paraesthesia       0.00      0.00      0.00         1\n",
      "                             parkinsonism       0.50      1.00      0.67         2\n",
      "                              pharyngitis       1.00      0.50      0.67         2\n",
      "postural orthostatic tachycardia syndrome       1.00      1.00      1.00         1\n",
      "                              prostatitis       1.00      1.00      1.00         1\n",
      "                       psychotic disorder       1.00      1.00      1.00         1\n",
      "                   pyoderma streptococcal       0.00      0.00      0.00         1\n",
      "        respiratory tract infection viral       1.00      1.00      1.00         1\n",
      "                             restlessness       1.00      1.00      1.00         1\n",
      "                                 rhinitis       1.00      1.00      1.00         2\n",
      "                    road traffic accident       1.00      1.00      1.00         1\n",
      "                            schizophrenia       1.00      1.00      1.00        23\n",
      "                         sinus arrhythmia       1.00      1.00      1.00         1\n",
      "                        sinus tachycardia       1.00      1.00      1.00         3\n",
      "                             smear cervix       0.00      0.00      0.00         0\n",
      "                               somnolence       1.00      1.00      1.00         8\n",
      "                               stomatitis       1.00      1.00      1.00         1\n",
      "                        suicidal ideation       1.00      1.00      1.00         2\n",
      "                              tachycardia       1.00      1.00      1.00         1\n",
      "                        terminal insomnia       1.00      0.67      0.80         3\n",
      "                            tooth abscess       0.00      0.00      0.00         0\n",
      "                                toothache       1.00      1.00      1.00         2\n",
      "                                   tremor       1.00      0.33      0.50         3\n",
      "              tri iodothyronine increased       0.00      0.00      0.00         1\n",
      "                      uterine haemorrhage       0.00      0.00      0.00         1\n",
      "                                  vertigo       1.00      1.00      1.00         1\n",
      "                                 vomiting       1.00      1.00      1.00         1\n",
      "                         weight decreased       1.00      1.00      1.00         5\n",
      "\n",
      "                              avg / total       0.94      0.93      0.94       276\n",
      "\n",
      "Micro precision/recall/F1: 0.9347826086956522 / 0.9347826086956522 / 0.9347826086956522\n",
      "Macro precision/recall/F1: 0.7909722222222223 0.7809027777777778 / 0.7807750638569604\n",
      "Weighted precision/recall/F1: / 0.9443236714975846 / 0.9347826086956522 / 0.9351893497695597\n"
     ]
    },
    {
     "name": "stderr",
     "output_type": "stream",
     "text": [
      "/home/ec2-user/anaconda3/envs/tensorflow_p36/lib/python3.6/site-packages/sklearn/metrics/classification.py:1135: UndefinedMetricWarning: Precision and F-score are ill-defined and being set to 0.0 in labels with no predicted samples.\n",
      "  'precision', 'predicted', average, warn_for)\n",
      "/home/ec2-user/anaconda3/envs/tensorflow_p36/lib/python3.6/site-packages/sklearn/metrics/classification.py:1137: UndefinedMetricWarning: Recall and F-score are ill-defined and being set to 0.0 in labels with no true samples.\n",
      "  'recall', 'true', average, warn_for)\n"
     ]
    }
   ],
   "source": [
    "score = m3.evaluate(Xtest, y_test, verbose=0)\n",
    "print(\"loss/acc:\", score)\n",
    "y_p = m3.predict(Xtest)\n",
    "\n",
    "####obtain PT\n",
    "y_pred = [decoder[i] for i in y_p.argmax(axis=1)]\n",
    "from sklearn.metrics import confusion_matrix\n",
    "confusion_matrix(Y_test.tolist(), y_pred)\n",
    "#obtain indices\n",
    "y_pred_i=np.array([[encoder[i]] for i in y_pred])\n",
    "from sklearn.metrics import classification_report,precision_recall_fscore_support\n",
    "\n",
    "print(classification_report(np.array(Y_test), np.array(y_pred)))\n",
    "precision_micro, recall_micro , fbeta_micro, support_micro=precision_recall_fscore_support(np.array(Y_test), np.array(y_pred), average='micro')\n",
    "precision_macro, recall_macro , fbeta_macro, support_macro=precision_recall_fscore_support(np.array(Y_test), np.array(y_pred), average='macro')\n",
    "precision_w, recall_w , fbeta_w, support_w=precision_recall_fscore_support(np.array(Y_test), np.array(y_pred), average='weighted')\n",
    "print ('Micro precision/recall/F1:', precision_micro,'/', recall_micro,'/',fbeta_micro)\n",
    "print ('Macro precision/recall/F1:',       precision_macro, recall_macro,'/',fbeta_macro)\n",
    "print ('Weighted precision/recall/F1:','/',       precision_w,'/', recall_w,'/',fbeta_w)"
   ]
  },
  {
   "cell_type": "markdown",
   "metadata": {},
   "source": [
    "## 2nd conv "
   ]
  },
  {
   "cell_type": "code",
   "execution_count": 65,
   "metadata": {},
   "outputs": [],
   "source": [
    "def model_conv_2():\n",
    "    inputs = Input(shape=(WINDOWS_Size, INPUT_DIM,))\n",
    "    attention_mul = attention_3d_block(inputs)\n",
    "    conv_0 = Conv1D(64, 7,activation='relu',kernel_regularizer=regularizers.l2(0.01))(attention_mul)\n",
    "    #conv_0=Dropout(0.2)(conv_0)\n",
    "    conv_1 = Conv1D(64, 5,activation='relu',kernel_regularizer=regularizers.l2(0.01))(attention_mul)\n",
    "    #conv_1=Dropout(0.2)(conv_1)\n",
    "    conv_2 = Conv1D(64, 3,activation='relu',kernel_regularizer=regularizers.l2(0.01))(attention_mul)\n",
    "    #conv_2=Dropout(0.2)(conv_2)\n",
    "    \n",
    "    maxpool_0 = MaxPooling1D(pool_size=2)(conv_0)\n",
    "    maxpool_1 = MaxPooling1D(pool_size=2)(conv_1)\n",
    "    maxpool_2 = MaxPooling1D(pool_size=2)(conv_2)\n",
    "\n",
    "    conc_tensor_0 = concatenate([maxpool_0, maxpool_1], axis=1)\n",
    "    conc_tensor_1 = concatenate([maxpool_1, maxpool_2], axis=1)\n",
    "    conc_tensor_2 = concatenate([maxpool_0, maxpool_2], axis=1)\n",
    "    \n",
    "    conc_tensor_0 = Flatten()(conc_tensor_0)\n",
    "    conc_tensor_1 = Flatten()(conc_tensor_1)\n",
    "    conc_tensor_2 = Flatten()(conc_tensor_2)\n",
    "    \n",
    "    dnn_out_1=Dense(256, activation=tf.nn.relu, kernel_regularizer=regularizers.l2(0.01))(conc_tensor_0)\n",
    "    dnn_out_2=Dense(256, activation=tf.nn.relu, kernel_regularizer=regularizers.l2(0.01))(conc_tensor_1)    \n",
    "    dnn_out_3=Dense(256, activation=tf.nn.relu, kernel_regularizer=regularizers.l2(0.01))(conc_tensor_2)    \n",
    "\n",
    "    conc_dnn_out=concatenate([dnn_out_1, dnn_out_2,dnn_out_3], axis=1)\n",
    "    dnn_out_4=Dense(128, activation=tf.nn.relu, kernel_regularizer=regularizers.l2(0.01))(conc_dnn_out)  \n",
    "    #dnn_out_5=Dense(128, activation=tf.nn.relu, kernel_regularizer=regularizers.l2(0.01))(dnn_out_4) \n",
    "    #dnn_out_6=Dense(128, activation=tf.nn.relu, kernel_regularizer=regularizers.l2(0.01))(dnn_out_5) \n",
    "    output = Dense(CLASSES, activation='softmax')(dnn_out_4)\n",
    "    model = Model(input=[inputs], output=output)\n",
    "    return model"
   ]
  },
  {
   "cell_type": "code",
   "execution_count": null,
   "metadata": {},
   "outputs": [
    {
     "name": "stderr",
     "output_type": "stream",
     "text": [
      "/home/ec2-user/anaconda3/envs/tensorflow_p36/lib/python3.6/site-packages/ipykernel/__main__.py:32: UserWarning: Update your `Model` call to the Keras 2 API: `Model(inputs=[<tf.Tenso..., outputs=Tensor(\"de...)`\n"
     ]
    },
    {
     "name": "stdout",
     "output_type": "stream",
     "text": [
      "__________________________________________________________________________________________________\n",
      "Layer (type)                    Output Shape         Param #     Connected to                     \n",
      "==================================================================================================\n",
      "input_1 (InputLayer)            (None, 9, 100)       0                                            \n",
      "__________________________________________________________________________________________________\n",
      "permute_1 (Permute)             (None, 100, 9)       0           input_1[0][0]                    \n",
      "__________________________________________________________________________________________________\n",
      "reshape_1 (Reshape)             (None, 100, 9)       0           permute_1[0][0]                  \n",
      "__________________________________________________________________________________________________\n",
      "dense_1 (Dense)                 (None, 100, 9)       90          reshape_1[0][0]                  \n",
      "__________________________________________________________________________________________________\n",
      "attention_vec (Permute)         (None, 9, 100)       0           dense_1[0][0]                    \n",
      "__________________________________________________________________________________________________\n",
      "attention_mul (Concatenate)     (None, 9, 200)       0           input_1[0][0]                    \n",
      "                                                                 attention_vec[0][0]              \n",
      "__________________________________________________________________________________________________\n",
      "conv1d_1 (Conv1D)               (None, 3, 64)        89664       attention_mul[0][0]              \n",
      "__________________________________________________________________________________________________\n",
      "conv1d_2 (Conv1D)               (None, 5, 64)        64064       attention_mul[0][0]              \n",
      "__________________________________________________________________________________________________\n",
      "conv1d_3 (Conv1D)               (None, 7, 64)        38464       attention_mul[0][0]              \n",
      "__________________________________________________________________________________________________\n",
      "max_pooling1d_1 (MaxPooling1D)  (None, 1, 64)        0           conv1d_1[0][0]                   \n",
      "__________________________________________________________________________________________________\n",
      "max_pooling1d_2 (MaxPooling1D)  (None, 2, 64)        0           conv1d_2[0][0]                   \n",
      "__________________________________________________________________________________________________\n",
      "max_pooling1d_3 (MaxPooling1D)  (None, 3, 64)        0           conv1d_3[0][0]                   \n",
      "__________________________________________________________________________________________________\n",
      "concatenate_1 (Concatenate)     (None, 3, 64)        0           max_pooling1d_1[0][0]            \n",
      "                                                                 max_pooling1d_2[0][0]            \n",
      "__________________________________________________________________________________________________\n",
      "concatenate_2 (Concatenate)     (None, 5, 64)        0           max_pooling1d_2[0][0]            \n",
      "                                                                 max_pooling1d_3[0][0]            \n",
      "__________________________________________________________________________________________________\n",
      "concatenate_3 (Concatenate)     (None, 4, 64)        0           max_pooling1d_1[0][0]            \n",
      "                                                                 max_pooling1d_3[0][0]            \n",
      "__________________________________________________________________________________________________\n",
      "flatten_1 (Flatten)             (None, 192)          0           concatenate_1[0][0]              \n",
      "__________________________________________________________________________________________________\n",
      "flatten_2 (Flatten)             (None, 320)          0           concatenate_2[0][0]              \n",
      "__________________________________________________________________________________________________\n",
      "flatten_3 (Flatten)             (None, 256)          0           concatenate_3[0][0]              \n",
      "__________________________________________________________________________________________________\n",
      "dense_2 (Dense)                 (None, 256)          49408       flatten_1[0][0]                  \n",
      "__________________________________________________________________________________________________\n",
      "dense_3 (Dense)                 (None, 256)          82176       flatten_2[0][0]                  \n",
      "__________________________________________________________________________________________________\n",
      "dense_4 (Dense)                 (None, 256)          65792       flatten_3[0][0]                  \n",
      "__________________________________________________________________________________________________\n",
      "concatenate_4 (Concatenate)     (None, 768)          0           dense_2[0][0]                    \n",
      "                                                                 dense_3[0][0]                    \n",
      "                                                                 dense_4[0][0]                    \n",
      "__________________________________________________________________________________________________\n",
      "dense_5 (Dense)                 (None, 128)          98432       concatenate_4[0][0]              \n",
      "__________________________________________________________________________________________________\n",
      "dense_6 (Dense)                 (None, 23908)        3084132     dense_5[0][0]                    \n",
      "==================================================================================================\n",
      "Total params: 3,572,222\n",
      "Trainable params: 3,572,222\n",
      "Non-trainable params: 0\n",
      "__________________________________________________________________________________________________\n",
      "Train on 207963 samples, validate on 51991 samples\n",
      "Epoch 1/100\n",
      "207963/207963 [==============================] - 35s 168us/step - loss: 7.7606 - acc: 0.0936 - val_loss: 5.4417 - val_acc: 0.2200\n",
      "Epoch 2/100\n",
      "207963/207963 [==============================] - 34s 163us/step - loss: 6.5413 - acc: 0.2158 - val_loss: 4.4182 - val_acc: 0.4007\n",
      "Epoch 3/100\n",
      "207963/207963 [==============================] - 34s 163us/step - loss: 5.8919 - acc: 0.2647 - val_loss: 3.8901 - val_acc: 0.4749\n",
      "Epoch 4/100\n",
      "207963/207963 [==============================] - 34s 163us/step - loss: 5.4395 - acc: 0.2896 - val_loss: 3.6718 - val_acc: 0.5127\n",
      "Epoch 5/100\n",
      "207963/207963 [==============================] - 34s 163us/step - loss: 5.1181 - acc: 0.3088 - val_loss: 3.4681 - val_acc: 0.5405\n",
      "Epoch 6/100\n",
      "207963/207963 [==============================] - 34s 163us/step - loss: 4.8829 - acc: 0.3230 - val_loss: 3.3760 - val_acc: 0.5695\n",
      "Epoch 7/100\n",
      "207963/207963 [==============================] - 34s 163us/step - loss: 4.6857 - acc: 0.3383 - val_loss: 3.2445 - val_acc: 0.5918\n",
      "Epoch 8/100\n",
      "207963/207963 [==============================] - 34s 163us/step - loss: 4.4947 - acc: 0.3536 - val_loss: 3.1099 - val_acc: 0.6077\n",
      "Epoch 9/100\n",
      "207963/207963 [==============================] - 34s 163us/step - loss: 4.2803 - acc: 0.3736 - val_loss: 3.0266 - val_acc: 0.6230\n",
      "Epoch 10/100\n",
      "207963/207963 [==============================] - 34s 163us/step - loss: 4.0705 - acc: 0.3921 - val_loss: 2.9421 - val_acc: 0.6380\n",
      "Epoch 11/100\n",
      "207963/207963 [==============================] - 34s 163us/step - loss: 3.8885 - acc: 0.4099 - val_loss: 2.8815 - val_acc: 0.6458\n",
      "Epoch 12/100\n",
      "207963/207963 [==============================] - 34s 163us/step - loss: 3.7280 - acc: 0.4271 - val_loss: 2.8170 - val_acc: 0.6664\n",
      "Epoch 13/100\n",
      "207963/207963 [==============================] - 34s 162us/step - loss: 3.5793 - acc: 0.4439 - val_loss: 2.7747 - val_acc: 0.6683\n",
      "Epoch 14/100\n",
      "207963/207963 [==============================] - 34s 163us/step - loss: 3.4445 - acc: 0.4593 - val_loss: 2.7260 - val_acc: 0.6703\n",
      "Epoch 15/100\n",
      "207963/207963 [==============================] - 34s 162us/step - loss: 3.3331 - acc: 0.4725 - val_loss: 2.6766 - val_acc: 0.6867\n",
      "Epoch 16/100\n",
      " 88384/207963 [===========>..................] - ETA: 17s - loss: 3.2396 - acc: 0.4835"
     ]
    }
   ],
   "source": [
    "K.clear_session()\n",
    "early_stop = EarlyStopping(monitor='val_loss', min_delta=0, patience=5, verbose=0, mode='auto')\n",
    "#ckpt_save = os.path.join(dir_path, 'BTWS100D+atten+pconv.hdf5')\n",
    "#checkpoint = ModelCheckpoint(ckpt_save, monitor='val_loss', verbose=1, save_best_only=True)\n",
    "#tensorboard = TensorBoard(log_dir=dir_path, histogram_freq=2000, write_graph=True, write_images=False)\n",
    "callback_list = [early_stop, tensorboard]\n",
    "\n",
    "m4 = model_conv_2()\n",
    "m4.compile(optimizer='adam', loss='sparse_categorical_crossentropy', metrics=['accuracy'])\n",
    "m4.summary()\n",
    "\n",
    "hm4=m4.fit([X], y_train, epochs=100, batch_size=64, validation_split=0.2, callbacks=[early_stop])"
   ]
  },
  {
   "cell_type": "code",
   "execution_count": null,
   "metadata": {},
   "outputs": [],
   "source": [
    "file='m4-atten+parallel_conv+dense'\n",
    "plotresult(hm4, '100D BTSM + ParallelCov', file+'.png') \n",
    "# serialize model to JSON\n",
    "model_json = m4.to_json()\n",
    "with open('models/100d/'+file+'.json', 'w') as json_file:\n",
    "    json_file.write(model_json)\n",
    "# serialize weights to HDF5\n",
    "m4.save_weights('models/100d/'+file+'.h5')\n",
    "print(\"Saved model to disk\")\n",
    " "
   ]
  },
  {
   "cell_type": "code",
   "execution_count": null,
   "metadata": {},
   "outputs": [],
   "source": [
    "score = m4.evaluate(Xtest, y_test, verbose=0)\n",
    "print(\"loss/acc:\", score)\n",
    "y_p = m4.predict(Xtest)\n",
    "\n",
    "####obtain PT\n",
    "y_pred = [decoder[i] for i in y_p.argmax(axis=1)]\n",
    "from sklearn.metrics import confusion_matrix\n",
    "confusion_matrix(Y_test.tolist(), y_pred)\n",
    "#obtain indices\n",
    "y_pred_i=np.array([[encoder[i]] for i in y_pred])\n",
    "from sklearn.metrics import classification_report,precision_recall_fscore_support\n",
    "\n",
    "print(classification_report(np.array(Y_test), np.array(y_pred)))\n",
    "precision_micro, recall_micro , fbeta_micro, support_micro=precision_recall_fscore_support(np.array(Y_test), np.array(y_pred), average='micro')\n",
    "precision_macro, recall_macro , fbeta_macro, support_macro=precision_recall_fscore_support(np.array(Y_test), np.array(y_pred), average='macro')\n",
    "precision_w, recall_w , fbeta_w, support_w=precision_recall_fscore_support(np.array(Y_test), np.array(y_pred), average='weighted')\n",
    "print ('Micro precision/recall/F1:', precision_micro,'/', recall_micro,'/',fbeta_micro)\n",
    "print ('Macro precision/recall/F1:',       precision_macro, recall_macro,'/',fbeta_macro)\n",
    "print ('Weighted precision/recall/F1:','/',       precision_w,'/', recall_w,'/',fbeta_w)"
   ]
  },
  {
   "cell_type": "code",
   "execution_count": null,
   "metadata": {},
   "outputs": [],
   "source": []
  },
  {
   "cell_type": "markdown",
   "metadata": {},
   "source": [
    "#### Save model"
   ]
  },
  {
   "cell_type": "code",
   "execution_count": null,
   "metadata": {},
   "outputs": [],
   "source": [
    "# serialize model to JSON\n",
    "model_json = m.to_json()\n",
    "with open(\"models/500d/model+biLSTM+dense+atten+500D.json\", \"w\") as json_file:\n",
    "    json_file.write(model_json)\n",
    "# serialize weights to HDF5\n",
    "m.save_weights(\"models/500d/model+biLSTM+dense+atten+500D.h5\")\n",
    "print(\"Saved model to disk\")\n",
    " "
   ]
  },
  {
   "cell_type": "code",
   "execution_count": null,
   "metadata": {},
   "outputs": [],
   "source": [
    "# later...\n",
    " \n",
    "# load json and create model\n",
    "json_file = open('model.json', 'r')\n",
    "loaded_model_json = json_file.read()\n",
    "json_file.close()\n",
    "loaded_model = model_from_json(loaded_model_json)\n",
    "# load weights into new model\n",
    "loaded_model.load_weights(\"model.h5\")\n",
    "print(\"Loaded model from disk\")\n",
    " "
   ]
  },
  {
   "cell_type": "code",
   "execution_count": null,
   "metadata": {},
   "outputs": [],
   "source": [
    "attention_vectors = []\n",
    "for i in range(100):\n",
    "    \n",
    "    attention_vector = np.mean(get_activations(m,\n",
    "                                               Xtest,\n",
    "                                               print_shape_only=True,\n",
    "                                               layer_name='attention_vec')[0], axis=2).squeeze()\n",
    "    print('attention =', attention_vector)\n",
    "    #assert (np.sum(attention_vector) - 1.0) < 1e-5\n",
    "    attention_vectors.append(attention_vector)\n",
    "\n",
    "attention_vector_final = np.mean(np.array(attention_vectors), axis=0)"
   ]
  },
  {
   "cell_type": "code",
   "execution_count": null,
   "metadata": {},
   "outputs": [],
   "source": [
    "attention_vector_final"
   ]
  },
  {
   "cell_type": "code",
   "execution_count": null,
   "metadata": {},
   "outputs": [],
   "source": [
    "pd.DataFrame(data=attention_vector_final[1:,1:],   \n",
    "              index=attention_vector_final[1:,0],    \n",
    "              columns=attention_vector_final[0,1:]).plot(kind='bar',\n",
    "                                                                     title='Attention Mechanism as '\n",
    "                                                                           'a function of input'\n",
    "                                                                           ' dimensions.')\n",
    "plt.show()"
   ]
  },
  {
   "cell_type": "code",
   "execution_count": null,
   "metadata": {},
   "outputs": [],
   "source": [
    "# plot part.\n",
    "import matplotlib.pyplot as plt\n",
    "import pandas as pd\n",
    "\n",
    "pd.DataFrame(attention_vector_final, columns=['attention (%)']).plot(kind='bar',\n",
    "                                                                     title='Attention Mechanism as '\n",
    "                                                                           'a function of input'\n",
    "                                                                           ' dimensions.')\n",
    "plt.show()"
   ]
  },
  {
   "cell_type": "code",
   "execution_count": null,
   "metadata": {},
   "outputs": [],
   "source": []
  }
 ],
 "metadata": {
  "kernelspec": {
   "display_name": "conda_tensorflow_p36",
   "language": "python",
   "name": "conda_tensorflow_p36"
  },
  "language_info": {
   "codemirror_mode": {
    "name": "ipython",
    "version": 3
   },
   "file_extension": ".py",
   "mimetype": "text/x-python",
   "name": "python",
   "nbconvert_exporter": "python",
   "pygments_lexer": "ipython3",
   "version": "3.6.5"
  }
 },
 "nbformat": 4,
 "nbformat_minor": 2
}
